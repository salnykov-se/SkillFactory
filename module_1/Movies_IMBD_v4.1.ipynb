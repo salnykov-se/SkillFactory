{
 "cells": [
  {
   "cell_type": "code",
   "execution_count": 1,
   "metadata": {
    "_cell_guid": "b1076dfc-b9ad-4769-8c92-a6c4dae69d19",
    "_uuid": "8f2839f25d086af736a60e9eeb907d3b93b6e0e5",
    "colab": {},
    "colab_type": "code",
    "id": "U2D2gTdJVp90"
   },
   "outputs": [],
   "source": [
    "import numpy as np\n",
    "import pandas as pd\n",
    "import seaborn as sns\n",
    "import matplotlib.pyplot as plt\n",
    "import statistics as s\n",
    "from collections import Counter\n",
    "from itertools import combinations\n"
   ]
  },
  {
   "cell_type": "code",
   "execution_count": 2,
   "metadata": {
    "_cell_guid": "79c7e3d0-c299-4dcb-8224-4455121ee9b0",
    "_uuid": "d629ff2d2480ee46fbb7e2d37f6b5fab8052498a",
    "colab": {},
    "colab_type": "code",
    "id": "oyGfxL3eVp9-"
   },
   "outputs": [
    {
     "data": {
      "text/html": [
       "<div>\n",
       "<style scoped>\n",
       "    .dataframe tbody tr th:only-of-type {\n",
       "        vertical-align: middle;\n",
       "    }\n",
       "\n",
       "    .dataframe tbody tr th {\n",
       "        vertical-align: top;\n",
       "    }\n",
       "\n",
       "    .dataframe thead th {\n",
       "        text-align: right;\n",
       "    }\n",
       "</style>\n",
       "<table border=\"1\" class=\"dataframe\">\n",
       "  <thead>\n",
       "    <tr style=\"text-align: right;\">\n",
       "      <th></th>\n",
       "      <th>imdb_id</th>\n",
       "      <th>budget</th>\n",
       "      <th>revenue</th>\n",
       "      <th>original_title</th>\n",
       "      <th>cast</th>\n",
       "      <th>director</th>\n",
       "      <th>tagline</th>\n",
       "      <th>overview</th>\n",
       "      <th>runtime</th>\n",
       "      <th>genres</th>\n",
       "      <th>production_companies</th>\n",
       "      <th>release_date</th>\n",
       "      <th>vote_average</th>\n",
       "      <th>release_year</th>\n",
       "    </tr>\n",
       "  </thead>\n",
       "  <tbody>\n",
       "    <tr>\n",
       "      <th>0</th>\n",
       "      <td>tt0369610</td>\n",
       "      <td>150000000</td>\n",
       "      <td>1513528810</td>\n",
       "      <td>Jurassic World</td>\n",
       "      <td>Chris Pratt|Bryce Dallas Howard|Irrfan Khan|Vi...</td>\n",
       "      <td>Colin Trevorrow</td>\n",
       "      <td>The park is open.</td>\n",
       "      <td>Twenty-two years after the events of Jurassic ...</td>\n",
       "      <td>124</td>\n",
       "      <td>Action|Adventure|Science Fiction|Thriller</td>\n",
       "      <td>Universal Studios|Amblin Entertainment|Legenda...</td>\n",
       "      <td>6/9/2015</td>\n",
       "      <td>6.5</td>\n",
       "      <td>2015</td>\n",
       "    </tr>\n",
       "    <tr>\n",
       "      <th>1</th>\n",
       "      <td>tt1392190</td>\n",
       "      <td>150000000</td>\n",
       "      <td>378436354</td>\n",
       "      <td>Mad Max: Fury Road</td>\n",
       "      <td>Tom Hardy|Charlize Theron|Hugh Keays-Byrne|Nic...</td>\n",
       "      <td>George Miller</td>\n",
       "      <td>What a Lovely Day.</td>\n",
       "      <td>An apocalyptic story set in the furthest reach...</td>\n",
       "      <td>120</td>\n",
       "      <td>Action|Adventure|Science Fiction|Thriller</td>\n",
       "      <td>Village Roadshow Pictures|Kennedy Miller Produ...</td>\n",
       "      <td>5/13/2015</td>\n",
       "      <td>7.1</td>\n",
       "      <td>2015</td>\n",
       "    </tr>\n",
       "    <tr>\n",
       "      <th>2</th>\n",
       "      <td>tt2908446</td>\n",
       "      <td>110000000</td>\n",
       "      <td>295238201</td>\n",
       "      <td>Insurgent</td>\n",
       "      <td>Shailene Woodley|Theo James|Kate Winslet|Ansel...</td>\n",
       "      <td>Robert Schwentke</td>\n",
       "      <td>One Choice Can Destroy You</td>\n",
       "      <td>Beatrice Prior must confront her inner demons ...</td>\n",
       "      <td>119</td>\n",
       "      <td>Adventure|Science Fiction|Thriller</td>\n",
       "      <td>Summit Entertainment|Mandeville Films|Red Wago...</td>\n",
       "      <td>3/18/2015</td>\n",
       "      <td>6.3</td>\n",
       "      <td>2015</td>\n",
       "    </tr>\n",
       "    <tr>\n",
       "      <th>3</th>\n",
       "      <td>tt2488496</td>\n",
       "      <td>200000000</td>\n",
       "      <td>2068178225</td>\n",
       "      <td>Star Wars: The Force Awakens</td>\n",
       "      <td>Harrison Ford|Mark Hamill|Carrie Fisher|Adam D...</td>\n",
       "      <td>J.J. Abrams</td>\n",
       "      <td>Every generation has a story.</td>\n",
       "      <td>Thirty years after defeating the Galactic Empi...</td>\n",
       "      <td>136</td>\n",
       "      <td>Action|Adventure|Science Fiction|Fantasy</td>\n",
       "      <td>Lucasfilm|Truenorth Productions|Bad Robot</td>\n",
       "      <td>12/15/2015</td>\n",
       "      <td>7.5</td>\n",
       "      <td>2015</td>\n",
       "    </tr>\n",
       "    <tr>\n",
       "      <th>4</th>\n",
       "      <td>tt2820852</td>\n",
       "      <td>190000000</td>\n",
       "      <td>1506249360</td>\n",
       "      <td>Furious 7</td>\n",
       "      <td>Vin Diesel|Paul Walker|Jason Statham|Michelle ...</td>\n",
       "      <td>James Wan</td>\n",
       "      <td>Vengeance Hits Home</td>\n",
       "      <td>Deckard Shaw seeks revenge against Dominic Tor...</td>\n",
       "      <td>137</td>\n",
       "      <td>Action|Crime|Thriller</td>\n",
       "      <td>Universal Pictures|Original Film|Media Rights ...</td>\n",
       "      <td>4/1/2015</td>\n",
       "      <td>7.3</td>\n",
       "      <td>2015</td>\n",
       "    </tr>\n",
       "  </tbody>\n",
       "</table>\n",
       "</div>"
      ],
      "text/plain": [
       "     imdb_id     budget     revenue                original_title  \\\n",
       "0  tt0369610  150000000  1513528810                Jurassic World   \n",
       "1  tt1392190  150000000   378436354            Mad Max: Fury Road   \n",
       "2  tt2908446  110000000   295238201                     Insurgent   \n",
       "3  tt2488496  200000000  2068178225  Star Wars: The Force Awakens   \n",
       "4  tt2820852  190000000  1506249360                     Furious 7   \n",
       "\n",
       "                                                cast          director  \\\n",
       "0  Chris Pratt|Bryce Dallas Howard|Irrfan Khan|Vi...   Colin Trevorrow   \n",
       "1  Tom Hardy|Charlize Theron|Hugh Keays-Byrne|Nic...     George Miller   \n",
       "2  Shailene Woodley|Theo James|Kate Winslet|Ansel...  Robert Schwentke   \n",
       "3  Harrison Ford|Mark Hamill|Carrie Fisher|Adam D...       J.J. Abrams   \n",
       "4  Vin Diesel|Paul Walker|Jason Statham|Michelle ...         James Wan   \n",
       "\n",
       "                         tagline  \\\n",
       "0              The park is open.   \n",
       "1             What a Lovely Day.   \n",
       "2     One Choice Can Destroy You   \n",
       "3  Every generation has a story.   \n",
       "4            Vengeance Hits Home   \n",
       "\n",
       "                                            overview  runtime  \\\n",
       "0  Twenty-two years after the events of Jurassic ...      124   \n",
       "1  An apocalyptic story set in the furthest reach...      120   \n",
       "2  Beatrice Prior must confront her inner demons ...      119   \n",
       "3  Thirty years after defeating the Galactic Empi...      136   \n",
       "4  Deckard Shaw seeks revenge against Dominic Tor...      137   \n",
       "\n",
       "                                      genres  \\\n",
       "0  Action|Adventure|Science Fiction|Thriller   \n",
       "1  Action|Adventure|Science Fiction|Thriller   \n",
       "2         Adventure|Science Fiction|Thriller   \n",
       "3   Action|Adventure|Science Fiction|Fantasy   \n",
       "4                      Action|Crime|Thriller   \n",
       "\n",
       "                                production_companies release_date  \\\n",
       "0  Universal Studios|Amblin Entertainment|Legenda...     6/9/2015   \n",
       "1  Village Roadshow Pictures|Kennedy Miller Produ...    5/13/2015   \n",
       "2  Summit Entertainment|Mandeville Films|Red Wago...    3/18/2015   \n",
       "3          Lucasfilm|Truenorth Productions|Bad Robot   12/15/2015   \n",
       "4  Universal Pictures|Original Film|Media Rights ...     4/1/2015   \n",
       "\n",
       "   vote_average  release_year  \n",
       "0           6.5          2015  \n",
       "1           7.1          2015  \n",
       "2           6.3          2015  \n",
       "3           7.5          2015  \n",
       "4           7.3          2015  "
      ]
     },
     "execution_count": 2,
     "metadata": {},
     "output_type": "execute_result"
    }
   ],
   "source": [
    "data = pd.read_csv('movie_bd_v5.csv')\n",
    "data.head(5)"
   ]
  },
  {
   "cell_type": "code",
   "execution_count": 3,
   "metadata": {
    "colab": {},
    "colab_type": "code",
    "id": "CoYUnagMVp-C"
   },
   "outputs": [
    {
     "data": {
      "text/html": [
       "<div>\n",
       "<style scoped>\n",
       "    .dataframe tbody tr th:only-of-type {\n",
       "        vertical-align: middle;\n",
       "    }\n",
       "\n",
       "    .dataframe tbody tr th {\n",
       "        vertical-align: top;\n",
       "    }\n",
       "\n",
       "    .dataframe thead th {\n",
       "        text-align: right;\n",
       "    }\n",
       "</style>\n",
       "<table border=\"1\" class=\"dataframe\">\n",
       "  <thead>\n",
       "    <tr style=\"text-align: right;\">\n",
       "      <th></th>\n",
       "      <th>budget</th>\n",
       "      <th>revenue</th>\n",
       "      <th>runtime</th>\n",
       "      <th>vote_average</th>\n",
       "      <th>release_year</th>\n",
       "    </tr>\n",
       "  </thead>\n",
       "  <tbody>\n",
       "    <tr>\n",
       "      <th>count</th>\n",
       "      <td>1.889000e+03</td>\n",
       "      <td>1.889000e+03</td>\n",
       "      <td>1889.000000</td>\n",
       "      <td>1889.000000</td>\n",
       "      <td>1889.000000</td>\n",
       "    </tr>\n",
       "    <tr>\n",
       "      <th>mean</th>\n",
       "      <td>5.431083e+07</td>\n",
       "      <td>1.553653e+08</td>\n",
       "      <td>109.658549</td>\n",
       "      <td>6.140762</td>\n",
       "      <td>2007.860773</td>\n",
       "    </tr>\n",
       "    <tr>\n",
       "      <th>std</th>\n",
       "      <td>4.858721e+07</td>\n",
       "      <td>2.146698e+08</td>\n",
       "      <td>18.017041</td>\n",
       "      <td>0.764763</td>\n",
       "      <td>4.468841</td>\n",
       "    </tr>\n",
       "    <tr>\n",
       "      <th>min</th>\n",
       "      <td>5.000000e+06</td>\n",
       "      <td>2.033165e+06</td>\n",
       "      <td>63.000000</td>\n",
       "      <td>3.300000</td>\n",
       "      <td>2000.000000</td>\n",
       "    </tr>\n",
       "    <tr>\n",
       "      <th>25%</th>\n",
       "      <td>2.000000e+07</td>\n",
       "      <td>3.456058e+07</td>\n",
       "      <td>97.000000</td>\n",
       "      <td>5.600000</td>\n",
       "      <td>2004.000000</td>\n",
       "    </tr>\n",
       "    <tr>\n",
       "      <th>50%</th>\n",
       "      <td>3.800000e+07</td>\n",
       "      <td>8.361541e+07</td>\n",
       "      <td>107.000000</td>\n",
       "      <td>6.100000</td>\n",
       "      <td>2008.000000</td>\n",
       "    </tr>\n",
       "    <tr>\n",
       "      <th>75%</th>\n",
       "      <td>7.200000e+07</td>\n",
       "      <td>1.782626e+08</td>\n",
       "      <td>120.000000</td>\n",
       "      <td>6.600000</td>\n",
       "      <td>2012.000000</td>\n",
       "    </tr>\n",
       "    <tr>\n",
       "      <th>max</th>\n",
       "      <td>3.800000e+08</td>\n",
       "      <td>2.781506e+09</td>\n",
       "      <td>214.000000</td>\n",
       "      <td>8.100000</td>\n",
       "      <td>2015.000000</td>\n",
       "    </tr>\n",
       "  </tbody>\n",
       "</table>\n",
       "</div>"
      ],
      "text/plain": [
       "             budget       revenue      runtime  vote_average  release_year\n",
       "count  1.889000e+03  1.889000e+03  1889.000000   1889.000000   1889.000000\n",
       "mean   5.431083e+07  1.553653e+08   109.658549      6.140762   2007.860773\n",
       "std    4.858721e+07  2.146698e+08    18.017041      0.764763      4.468841\n",
       "min    5.000000e+06  2.033165e+06    63.000000      3.300000   2000.000000\n",
       "25%    2.000000e+07  3.456058e+07    97.000000      5.600000   2004.000000\n",
       "50%    3.800000e+07  8.361541e+07   107.000000      6.100000   2008.000000\n",
       "75%    7.200000e+07  1.782626e+08   120.000000      6.600000   2012.000000\n",
       "max    3.800000e+08  2.781506e+09   214.000000      8.100000   2015.000000"
      ]
     },
     "execution_count": 3,
     "metadata": {},
     "output_type": "execute_result"
    }
   ],
   "source": [
    "data.describe()"
   ]
  },
  {
   "cell_type": "markdown",
   "metadata": {
    "colab_type": "text",
    "id": "DTIt7ezGVp-G"
   },
   "source": [
    "# Предобработка"
   ]
  },
  {
   "cell_type": "code",
   "execution_count": 4,
   "metadata": {
    "colab": {},
    "colab_type": "code",
    "id": "jNb40DwKVp-H"
   },
   "outputs": [],
   "source": [
    "answers = {} # создадим словарь для ответов\n",
    "\n",
    "# тут другие ваши предобработки колонок например:\n",
    "\n",
    "\n",
    "#the time given in the dataset is in string format.\n",
    "#So we need to change this in datetime format\n",
    "# ..."
   ]
  },
  {
   "cell_type": "code",
   "execution_count": 5,
   "metadata": {
    "scrolled": true
   },
   "outputs": [
    {
     "data": {
      "text/html": [
       "<div>\n",
       "<style scoped>\n",
       "    .dataframe tbody tr th:only-of-type {\n",
       "        vertical-align: middle;\n",
       "    }\n",
       "\n",
       "    .dataframe tbody tr th {\n",
       "        vertical-align: top;\n",
       "    }\n",
       "\n",
       "    .dataframe thead th {\n",
       "        text-align: right;\n",
       "    }\n",
       "</style>\n",
       "<table border=\"1\" class=\"dataframe\">\n",
       "  <thead>\n",
       "    <tr style=\"text-align: right;\">\n",
       "      <th></th>\n",
       "      <th>imdb_id</th>\n",
       "      <th>budget</th>\n",
       "      <th>revenue</th>\n",
       "      <th>original_title</th>\n",
       "      <th>cast</th>\n",
       "      <th>director</th>\n",
       "      <th>tagline</th>\n",
       "      <th>overview</th>\n",
       "      <th>runtime</th>\n",
       "      <th>genres</th>\n",
       "      <th>production_companies</th>\n",
       "      <th>release_date</th>\n",
       "      <th>vote_average</th>\n",
       "      <th>release_year</th>\n",
       "      <th>profit</th>\n",
       "    </tr>\n",
       "  </thead>\n",
       "  <tbody>\n",
       "    <tr>\n",
       "      <th>0</th>\n",
       "      <td>tt0369610</td>\n",
       "      <td>150000000</td>\n",
       "      <td>1513528810</td>\n",
       "      <td>Jurassic World</td>\n",
       "      <td>Chris Pratt|Bryce Dallas Howard|Irrfan Khan|Vi...</td>\n",
       "      <td>Colin Trevorrow</td>\n",
       "      <td>The park is open.</td>\n",
       "      <td>Twenty-two years after the events of Jurassic ...</td>\n",
       "      <td>124</td>\n",
       "      <td>Action|Adventure|Science Fiction|Thriller</td>\n",
       "      <td>Universal Studios|Amblin Entertainment|Legenda...</td>\n",
       "      <td>6/9/2015</td>\n",
       "      <td>6.5</td>\n",
       "      <td>2015</td>\n",
       "      <td>1363528810</td>\n",
       "    </tr>\n",
       "    <tr>\n",
       "      <th>1</th>\n",
       "      <td>tt1392190</td>\n",
       "      <td>150000000</td>\n",
       "      <td>378436354</td>\n",
       "      <td>Mad Max: Fury Road</td>\n",
       "      <td>Tom Hardy|Charlize Theron|Hugh Keays-Byrne|Nic...</td>\n",
       "      <td>George Miller</td>\n",
       "      <td>What a Lovely Day.</td>\n",
       "      <td>An apocalyptic story set in the furthest reach...</td>\n",
       "      <td>120</td>\n",
       "      <td>Action|Adventure|Science Fiction|Thriller</td>\n",
       "      <td>Village Roadshow Pictures|Kennedy Miller Produ...</td>\n",
       "      <td>5/13/2015</td>\n",
       "      <td>7.1</td>\n",
       "      <td>2015</td>\n",
       "      <td>228436354</td>\n",
       "    </tr>\n",
       "    <tr>\n",
       "      <th>2</th>\n",
       "      <td>tt2908446</td>\n",
       "      <td>110000000</td>\n",
       "      <td>295238201</td>\n",
       "      <td>Insurgent</td>\n",
       "      <td>Shailene Woodley|Theo James|Kate Winslet|Ansel...</td>\n",
       "      <td>Robert Schwentke</td>\n",
       "      <td>One Choice Can Destroy You</td>\n",
       "      <td>Beatrice Prior must confront her inner demons ...</td>\n",
       "      <td>119</td>\n",
       "      <td>Adventure|Science Fiction|Thriller</td>\n",
       "      <td>Summit Entertainment|Mandeville Films|Red Wago...</td>\n",
       "      <td>3/18/2015</td>\n",
       "      <td>6.3</td>\n",
       "      <td>2015</td>\n",
       "      <td>185238201</td>\n",
       "    </tr>\n",
       "    <tr>\n",
       "      <th>3</th>\n",
       "      <td>tt2488496</td>\n",
       "      <td>200000000</td>\n",
       "      <td>2068178225</td>\n",
       "      <td>Star Wars: The Force Awakens</td>\n",
       "      <td>Harrison Ford|Mark Hamill|Carrie Fisher|Adam D...</td>\n",
       "      <td>J.J. Abrams</td>\n",
       "      <td>Every generation has a story.</td>\n",
       "      <td>Thirty years after defeating the Galactic Empi...</td>\n",
       "      <td>136</td>\n",
       "      <td>Action|Adventure|Science Fiction|Fantasy</td>\n",
       "      <td>Lucasfilm|Truenorth Productions|Bad Robot</td>\n",
       "      <td>12/15/2015</td>\n",
       "      <td>7.5</td>\n",
       "      <td>2015</td>\n",
       "      <td>1868178225</td>\n",
       "    </tr>\n",
       "    <tr>\n",
       "      <th>4</th>\n",
       "      <td>tt2820852</td>\n",
       "      <td>190000000</td>\n",
       "      <td>1506249360</td>\n",
       "      <td>Furious 7</td>\n",
       "      <td>Vin Diesel|Paul Walker|Jason Statham|Michelle ...</td>\n",
       "      <td>James Wan</td>\n",
       "      <td>Vengeance Hits Home</td>\n",
       "      <td>Deckard Shaw seeks revenge against Dominic Tor...</td>\n",
       "      <td>137</td>\n",
       "      <td>Action|Crime|Thriller</td>\n",
       "      <td>Universal Pictures|Original Film|Media Rights ...</td>\n",
       "      <td>4/1/2015</td>\n",
       "      <td>7.3</td>\n",
       "      <td>2015</td>\n",
       "      <td>1316249360</td>\n",
       "    </tr>\n",
       "    <tr>\n",
       "      <th>...</th>\n",
       "      <td>...</td>\n",
       "      <td>...</td>\n",
       "      <td>...</td>\n",
       "      <td>...</td>\n",
       "      <td>...</td>\n",
       "      <td>...</td>\n",
       "      <td>...</td>\n",
       "      <td>...</td>\n",
       "      <td>...</td>\n",
       "      <td>...</td>\n",
       "      <td>...</td>\n",
       "      <td>...</td>\n",
       "      <td>...</td>\n",
       "      <td>...</td>\n",
       "      <td>...</td>\n",
       "    </tr>\n",
       "    <tr>\n",
       "      <th>95</th>\n",
       "      <td>tt3203606</td>\n",
       "      <td>15000000</td>\n",
       "      <td>8235661</td>\n",
       "      <td>Trumbo</td>\n",
       "      <td>Bryan Cranston|Diane Lane|Helen Mirren|Elle Fa...</td>\n",
       "      <td>Jay Roach</td>\n",
       "      <td>Are you now or have you ever been...</td>\n",
       "      <td>The career of screenwriter Dalton Trumbo is ha...</td>\n",
       "      <td>124</td>\n",
       "      <td>Drama</td>\n",
       "      <td>Groundswell Productions|Inimitable Pictures|Sh...</td>\n",
       "      <td>10/27/2015</td>\n",
       "      <td>7.2</td>\n",
       "      <td>2015</td>\n",
       "      <td>-6764339</td>\n",
       "    </tr>\n",
       "    <tr>\n",
       "      <th>96</th>\n",
       "      <td>tt1741273</td>\n",
       "      <td>19500000</td>\n",
       "      <td>32189727</td>\n",
       "      <td>Secret in Their Eyes</td>\n",
       "      <td>Chiwetel Ejiofor|Nicole Kidman|Julia Roberts|D...</td>\n",
       "      <td>Billy Ray</td>\n",
       "      <td>Don't look back</td>\n",
       "      <td>A tight-knit team of FBI investigators, along ...</td>\n",
       "      <td>111</td>\n",
       "      <td>Crime|Drama|Mystery</td>\n",
       "      <td>Ingenious Media|Gran Via Productions|IM Global...</td>\n",
       "      <td>10/14/2015</td>\n",
       "      <td>6.2</td>\n",
       "      <td>2015</td>\n",
       "      <td>12689727</td>\n",
       "    </tr>\n",
       "    <tr>\n",
       "      <th>97</th>\n",
       "      <td>tt2279373</td>\n",
       "      <td>74000000</td>\n",
       "      <td>311594032</td>\n",
       "      <td>The SpongeBob Movie: Sponge Out of Water</td>\n",
       "      <td>Tom Kenny|Bill Fagerbakke|Rodger Bumpass|Clanc...</td>\n",
       "      <td>Paul Tibbitt</td>\n",
       "      <td>He's leaving his world behind.</td>\n",
       "      <td>Burger Beard is a pirate who is in search of t...</td>\n",
       "      <td>93</td>\n",
       "      <td>Family|Animation</td>\n",
       "      <td>Paramount Pictures|Nickelodeon Movies|Nickelod...</td>\n",
       "      <td>2/5/2015</td>\n",
       "      <td>5.7</td>\n",
       "      <td>2015</td>\n",
       "      <td>237594032</td>\n",
       "    </tr>\n",
       "    <tr>\n",
       "      <th>98</th>\n",
       "      <td>tt3369806</td>\n",
       "      <td>20000000</td>\n",
       "      <td>43967255</td>\n",
       "      <td>Max</td>\n",
       "      <td>Thomas Haden Church|Josh Wiggins|Lauren Graham...</td>\n",
       "      <td>Boaz Yakin</td>\n",
       "      <td>Best Friend. Hero. Marine.</td>\n",
       "      <td>A dog that helped soldiers in Afghanistan retu...</td>\n",
       "      <td>111</td>\n",
       "      <td>Adventure|Drama|Family</td>\n",
       "      <td>Sunswept Entertainment|Warner Bros.|Metro-Gold...</td>\n",
       "      <td>6/26/2015</td>\n",
       "      <td>7.0</td>\n",
       "      <td>2015</td>\n",
       "      <td>23967255</td>\n",
       "    </tr>\n",
       "    <tr>\n",
       "      <th>99</th>\n",
       "      <td>tt2515034</td>\n",
       "      <td>40000000</td>\n",
       "      <td>10664749</td>\n",
       "      <td>The Gunman</td>\n",
       "      <td>Sean Penn|Jasmine Trinca|Javier Bardem|Ray Win...</td>\n",
       "      <td>Pierre Morel</td>\n",
       "      <td>Armed With the Truth.</td>\n",
       "      <td>Eight years after fleeing the Congo following ...</td>\n",
       "      <td>115</td>\n",
       "      <td>Action|Drama|Crime</td>\n",
       "      <td>StudioCanal|Silver Pictures|TF1 Films Producti...</td>\n",
       "      <td>2/16/2015</td>\n",
       "      <td>5.6</td>\n",
       "      <td>2015</td>\n",
       "      <td>-29335251</td>\n",
       "    </tr>\n",
       "  </tbody>\n",
       "</table>\n",
       "<p>100 rows × 15 columns</p>\n",
       "</div>"
      ],
      "text/plain": [
       "      imdb_id     budget     revenue  \\\n",
       "0   tt0369610  150000000  1513528810   \n",
       "1   tt1392190  150000000   378436354   \n",
       "2   tt2908446  110000000   295238201   \n",
       "3   tt2488496  200000000  2068178225   \n",
       "4   tt2820852  190000000  1506249360   \n",
       "..        ...        ...         ...   \n",
       "95  tt3203606   15000000     8235661   \n",
       "96  tt1741273   19500000    32189727   \n",
       "97  tt2279373   74000000   311594032   \n",
       "98  tt3369806   20000000    43967255   \n",
       "99  tt2515034   40000000    10664749   \n",
       "\n",
       "                              original_title  \\\n",
       "0                             Jurassic World   \n",
       "1                         Mad Max: Fury Road   \n",
       "2                                  Insurgent   \n",
       "3               Star Wars: The Force Awakens   \n",
       "4                                  Furious 7   \n",
       "..                                       ...   \n",
       "95                                    Trumbo   \n",
       "96                      Secret in Their Eyes   \n",
       "97  The SpongeBob Movie: Sponge Out of Water   \n",
       "98                                       Max   \n",
       "99                                The Gunman   \n",
       "\n",
       "                                                 cast          director  \\\n",
       "0   Chris Pratt|Bryce Dallas Howard|Irrfan Khan|Vi...   Colin Trevorrow   \n",
       "1   Tom Hardy|Charlize Theron|Hugh Keays-Byrne|Nic...     George Miller   \n",
       "2   Shailene Woodley|Theo James|Kate Winslet|Ansel...  Robert Schwentke   \n",
       "3   Harrison Ford|Mark Hamill|Carrie Fisher|Adam D...       J.J. Abrams   \n",
       "4   Vin Diesel|Paul Walker|Jason Statham|Michelle ...         James Wan   \n",
       "..                                                ...               ...   \n",
       "95  Bryan Cranston|Diane Lane|Helen Mirren|Elle Fa...         Jay Roach   \n",
       "96  Chiwetel Ejiofor|Nicole Kidman|Julia Roberts|D...         Billy Ray   \n",
       "97  Tom Kenny|Bill Fagerbakke|Rodger Bumpass|Clanc...      Paul Tibbitt   \n",
       "98  Thomas Haden Church|Josh Wiggins|Lauren Graham...        Boaz Yakin   \n",
       "99  Sean Penn|Jasmine Trinca|Javier Bardem|Ray Win...      Pierre Morel   \n",
       "\n",
       "                                 tagline  \\\n",
       "0                      The park is open.   \n",
       "1                     What a Lovely Day.   \n",
       "2             One Choice Can Destroy You   \n",
       "3          Every generation has a story.   \n",
       "4                    Vengeance Hits Home   \n",
       "..                                   ...   \n",
       "95  Are you now or have you ever been...   \n",
       "96                       Don't look back   \n",
       "97        He's leaving his world behind.   \n",
       "98            Best Friend. Hero. Marine.   \n",
       "99                 Armed With the Truth.   \n",
       "\n",
       "                                             overview  runtime  \\\n",
       "0   Twenty-two years after the events of Jurassic ...      124   \n",
       "1   An apocalyptic story set in the furthest reach...      120   \n",
       "2   Beatrice Prior must confront her inner demons ...      119   \n",
       "3   Thirty years after defeating the Galactic Empi...      136   \n",
       "4   Deckard Shaw seeks revenge against Dominic Tor...      137   \n",
       "..                                                ...      ...   \n",
       "95  The career of screenwriter Dalton Trumbo is ha...      124   \n",
       "96  A tight-knit team of FBI investigators, along ...      111   \n",
       "97  Burger Beard is a pirate who is in search of t...       93   \n",
       "98  A dog that helped soldiers in Afghanistan retu...      111   \n",
       "99  Eight years after fleeing the Congo following ...      115   \n",
       "\n",
       "                                       genres  \\\n",
       "0   Action|Adventure|Science Fiction|Thriller   \n",
       "1   Action|Adventure|Science Fiction|Thriller   \n",
       "2          Adventure|Science Fiction|Thriller   \n",
       "3    Action|Adventure|Science Fiction|Fantasy   \n",
       "4                       Action|Crime|Thriller   \n",
       "..                                        ...   \n",
       "95                                      Drama   \n",
       "96                        Crime|Drama|Mystery   \n",
       "97                           Family|Animation   \n",
       "98                     Adventure|Drama|Family   \n",
       "99                         Action|Drama|Crime   \n",
       "\n",
       "                                 production_companies release_date  \\\n",
       "0   Universal Studios|Amblin Entertainment|Legenda...     6/9/2015   \n",
       "1   Village Roadshow Pictures|Kennedy Miller Produ...    5/13/2015   \n",
       "2   Summit Entertainment|Mandeville Films|Red Wago...    3/18/2015   \n",
       "3           Lucasfilm|Truenorth Productions|Bad Robot   12/15/2015   \n",
       "4   Universal Pictures|Original Film|Media Rights ...     4/1/2015   \n",
       "..                                                ...          ...   \n",
       "95  Groundswell Productions|Inimitable Pictures|Sh...   10/27/2015   \n",
       "96  Ingenious Media|Gran Via Productions|IM Global...   10/14/2015   \n",
       "97  Paramount Pictures|Nickelodeon Movies|Nickelod...     2/5/2015   \n",
       "98  Sunswept Entertainment|Warner Bros.|Metro-Gold...    6/26/2015   \n",
       "99  StudioCanal|Silver Pictures|TF1 Films Producti...    2/16/2015   \n",
       "\n",
       "    vote_average  release_year      profit  \n",
       "0            6.5          2015  1363528810  \n",
       "1            7.1          2015   228436354  \n",
       "2            6.3          2015   185238201  \n",
       "3            7.5          2015  1868178225  \n",
       "4            7.3          2015  1316249360  \n",
       "..           ...           ...         ...  \n",
       "95           7.2          2015    -6764339  \n",
       "96           6.2          2015    12689727  \n",
       "97           5.7          2015   237594032  \n",
       "98           7.0          2015    23967255  \n",
       "99           5.6          2015   -29335251  \n",
       "\n",
       "[100 rows x 15 columns]"
      ]
     },
     "execution_count": 5,
     "metadata": {},
     "output_type": "execute_result"
    }
   ],
   "source": [
    "data['profit'] = data['revenue'] - data['budget']\n",
    "data.head(100)\n"
   ]
  },
  {
   "cell_type": "code",
   "execution_count": 6,
   "metadata": {},
   "outputs": [],
   "source": [
    "#This function splits strings separated by \"|\" into list and places it in the new DF column\n",
    "\n",
    "def splitter():\n",
    "\n",
    "    for field in ['cast','director','genres','production_companies']:\n",
    "        data.insert(loc=data.columns.get_loc(field)+1, column=field+'_lst', value='')\n",
    "        for i, m in data.iterrows():\n",
    "            data.at[i,field+'_lst'] = sorted(data.at[i,field].split('|'))\n"
   ]
  },
  {
   "cell_type": "code",
   "execution_count": 7,
   "metadata": {},
   "outputs": [],
   "source": [
    "#This function creates new column with release month [0-12]\n",
    "\n",
    "def month():\n",
    "    \n",
    "    data.insert(loc=data.columns.get_loc('release_date')+1, column='release_month', value='')\n",
    "    for i, m in data.iterrows():\n",
    "        data.at[i,'release_month'] = data.loc[i,'release_date'].split('/')[0]          "
   ]
  },
  {
   "cell_type": "code",
   "execution_count": 8,
   "metadata": {},
   "outputs": [],
   "source": [
    "#This function creates new column with release season {'Wi','Sp','Su','Fa'}\n",
    "\n",
    "def season():\n",
    "    \n",
    "    data.insert(loc=data.columns.get_loc('release_month')+1, column='release_season', value='')\n",
    "    for i, m in data.iterrows():\n",
    "        if data.at[i,'release_month'] in  ['12','1','2']:\n",
    "            data.at[i,'release_season'] = 'Wi'\n",
    "        elif data.at[i,'release_month'] in  ['3','4','5']:\n",
    "            data.at[i,'release_season'] = 'Sp'\n",
    "        elif data.at[i,'release_month'] in  ['6','7','8']:\n",
    "            data.at[i,'release_season'] = 'Su'\n",
    "        else:\n",
    "            data.at[i,'release_season'] = 'Fa'"
   ]
  },
  {
   "cell_type": "code",
   "execution_count": 9,
   "metadata": {},
   "outputs": [],
   "source": [
    "#This function creates new column with title length\n",
    "\n",
    "def title_len():\n",
    "    \n",
    "    data.insert(loc=data.columns.get_loc('original_title')+1, column='title_length', value='')\n",
    "    for i, m in data.iterrows():\n",
    "        data.at[i,'title_length'] = len(data.loc[i,'original_title'])"
   ]
  },
  {
   "cell_type": "code",
   "execution_count": 10,
   "metadata": {},
   "outputs": [],
   "source": [
    "#This function creates new column with number of words in movie overview\n",
    "\n",
    "def overview_words():\n",
    "    \n",
    "    data.insert(loc=data.columns.get_loc('overview')+1, column='overview_words', value='')\n",
    "    for i, m in data.iterrows():\n",
    "        data.at[i,'overview_words'] = len(data.loc[i,'overview'].split(' '))"
   ]
  },
  {
   "cell_type": "code",
   "execution_count": 11,
   "metadata": {},
   "outputs": [],
   "source": [
    "#Run functions to pre-process data\n",
    "\n",
    "splitter()\n",
    "month()\n",
    "season()\n",
    "title_len()\n",
    "overview_words()"
   ]
  },
  {
   "cell_type": "code",
   "execution_count": 12,
   "metadata": {},
   "outputs": [
    {
     "data": {
      "text/html": [
       "<div>\n",
       "<style scoped>\n",
       "    .dataframe tbody tr th:only-of-type {\n",
       "        vertical-align: middle;\n",
       "    }\n",
       "\n",
       "    .dataframe tbody tr th {\n",
       "        vertical-align: top;\n",
       "    }\n",
       "\n",
       "    .dataframe thead th {\n",
       "        text-align: right;\n",
       "    }\n",
       "</style>\n",
       "<table border=\"1\" class=\"dataframe\">\n",
       "  <thead>\n",
       "    <tr style=\"text-align: right;\">\n",
       "      <th></th>\n",
       "      <th>imdb_id</th>\n",
       "      <th>budget</th>\n",
       "      <th>revenue</th>\n",
       "      <th>original_title</th>\n",
       "      <th>title_length</th>\n",
       "      <th>cast</th>\n",
       "      <th>cast_lst</th>\n",
       "      <th>director</th>\n",
       "      <th>director_lst</th>\n",
       "      <th>tagline</th>\n",
       "      <th>...</th>\n",
       "      <th>genres</th>\n",
       "      <th>genres_lst</th>\n",
       "      <th>production_companies</th>\n",
       "      <th>production_companies_lst</th>\n",
       "      <th>release_date</th>\n",
       "      <th>release_month</th>\n",
       "      <th>release_season</th>\n",
       "      <th>vote_average</th>\n",
       "      <th>release_year</th>\n",
       "      <th>profit</th>\n",
       "    </tr>\n",
       "  </thead>\n",
       "  <tbody>\n",
       "    <tr>\n",
       "      <th>1869</th>\n",
       "      <td>tt0211181</td>\n",
       "      <td>85000000</td>\n",
       "      <td>183611771</td>\n",
       "      <td>102 Dalmatians</td>\n",
       "      <td>14</td>\n",
       "      <td>Glenn Close|Ioan Gruffudd|Alice Evans|Tim McIn...</td>\n",
       "      <td>[Alice Evans, Glenn Close, GÃ©rard Depardieu, ...</td>\n",
       "      <td>Kevin Lima</td>\n",
       "      <td>[Kevin Lima]</td>\n",
       "      <td>Meet Two Unlikely Heroes With A Bone To Pick.</td>\n",
       "      <td>...</td>\n",
       "      <td>Comedy|Family</td>\n",
       "      <td>[Comedy, Family]</td>\n",
       "      <td>Walt Disney Pictures|Cruella Productions</td>\n",
       "      <td>[Cruella Productions, Walt Disney Pictures]</td>\n",
       "      <td>10/7/2000</td>\n",
       "      <td>10</td>\n",
       "      <td>Fa</td>\n",
       "      <td>5.0</td>\n",
       "      <td>2000</td>\n",
       "      <td>98611771</td>\n",
       "    </tr>\n",
       "    <tr>\n",
       "      <th>1870</th>\n",
       "      <td>tt0144528</td>\n",
       "      <td>84000000</td>\n",
       "      <td>123307945</td>\n",
       "      <td>Nutty Professor II: The Klumps</td>\n",
       "      <td>30</td>\n",
       "      <td>Eddie Murphy|Janet Jackson|Larry Miller|John A...</td>\n",
       "      <td>[Eddie Murphy, Janet Jackson, John Ales, Larry...</td>\n",
       "      <td>Peter Segal</td>\n",
       "      <td>[Peter Segal]</td>\n",
       "      <td>The Klumps are back!</td>\n",
       "      <td>...</td>\n",
       "      <td>Fantasy|Comedy|Romance|Science Fiction</td>\n",
       "      <td>[Comedy, Fantasy, Romance, Science Fiction]</td>\n",
       "      <td>Imagine Entertainment|Universal Pictures</td>\n",
       "      <td>[Imagine Entertainment, Universal Pictures]</td>\n",
       "      <td>7/27/2000</td>\n",
       "      <td>7</td>\n",
       "      <td>Su</td>\n",
       "      <td>4.8</td>\n",
       "      <td>2000</td>\n",
       "      <td>39307945</td>\n",
       "    </tr>\n",
       "    <tr>\n",
       "      <th>1871</th>\n",
       "      <td>tt0171433</td>\n",
       "      <td>30000000</td>\n",
       "      <td>37036004</td>\n",
       "      <td>Keeping the Faith</td>\n",
       "      <td>17</td>\n",
       "      <td>Ben Stiller|Edward Norton|Jenna Elfman|Anne Ba...</td>\n",
       "      <td>[Anne Bancroft, Ben Stiller, Edward Norton, El...</td>\n",
       "      <td>Edward Norton</td>\n",
       "      <td>[Edward Norton]</td>\n",
       "      <td>If you have to believe in something, you may a...</td>\n",
       "      <td>...</td>\n",
       "      <td>Comedy</td>\n",
       "      <td>[Comedy]</td>\n",
       "      <td>Spyglass Entertainment|Touchstone Pictures|Tri...</td>\n",
       "      <td>[Spyglass Entertainment, Touchstone Pictures, ...</td>\n",
       "      <td>4/14/2000</td>\n",
       "      <td>4</td>\n",
       "      <td>Sp</td>\n",
       "      <td>5.7</td>\n",
       "      <td>2000</td>\n",
       "      <td>7036004</td>\n",
       "    </tr>\n",
       "    <tr>\n",
       "      <th>1872</th>\n",
       "      <td>tt0134983</td>\n",
       "      <td>90000000</td>\n",
       "      <td>14828081</td>\n",
       "      <td>Supernova</td>\n",
       "      <td>9</td>\n",
       "      <td>James Spader|Angela Bassett|Robert Forster|Lou...</td>\n",
       "      <td>[Angela Bassett, James Spader, Lou Diamond Phi...</td>\n",
       "      <td>Walter Hill|Jack Sholder</td>\n",
       "      <td>[Jack Sholder, Walter Hill]</td>\n",
       "      <td>In the farthest reaches of space, something ha...</td>\n",
       "      <td>...</td>\n",
       "      <td>Science Fiction</td>\n",
       "      <td>[Science Fiction]</td>\n",
       "      <td>United Artists|Metro-Goldwyn-Mayer (MGM)|Hamme...</td>\n",
       "      <td>[Hammerhead Productions, Metro-Goldwyn-Mayer (...</td>\n",
       "      <td>1/14/2000</td>\n",
       "      <td>1</td>\n",
       "      <td>Wi</td>\n",
       "      <td>4.7</td>\n",
       "      <td>2000</td>\n",
       "      <td>-75171919</td>\n",
       "    </tr>\n",
       "    <tr>\n",
       "      <th>1873</th>\n",
       "      <td>tt0160009</td>\n",
       "      <td>40000000</td>\n",
       "      <td>30199105</td>\n",
       "      <td>The Art of War</td>\n",
       "      <td>14</td>\n",
       "      <td>Wesley Snipes|Donald Sutherland|Maury Chaykin|...</td>\n",
       "      <td>[Anne Archer, Donald Sutherland, Maury Chaykin...</td>\n",
       "      <td>Christian Duguay</td>\n",
       "      <td>[Christian Duguay]</td>\n",
       "      <td>Who is your foe?</td>\n",
       "      <td>...</td>\n",
       "      <td>Action|Adventure|Thriller</td>\n",
       "      <td>[Action, Adventure, Thriller]</td>\n",
       "      <td>Amen Ra Films|Franchise Pictures|Warner Bros.|...</td>\n",
       "      <td>[Amen Ra Films, Franchise Pictures, Morgan Cre...</td>\n",
       "      <td>8/23/2000</td>\n",
       "      <td>8</td>\n",
       "      <td>Su</td>\n",
       "      <td>5.7</td>\n",
       "      <td>2000</td>\n",
       "      <td>-9800895</td>\n",
       "    </tr>\n",
       "    <tr>\n",
       "      <th>1874</th>\n",
       "      <td>tt0202402</td>\n",
       "      <td>15000000</td>\n",
       "      <td>9902115</td>\n",
       "      <td>Whatever It Takes</td>\n",
       "      <td>17</td>\n",
       "      <td>Jodi Lyn O'Keefe|Shane West|Marla Sokoloff|Jam...</td>\n",
       "      <td>[Aaron Paul, James Franco, Jodi Lyn O'Keefe, M...</td>\n",
       "      <td>David Raynr</td>\n",
       "      <td>[David Raynr]</td>\n",
       "      <td>How low will they go to get the girls of their...</td>\n",
       "      <td>...</td>\n",
       "      <td>Drama|Comedy|Romance</td>\n",
       "      <td>[Comedy, Drama, Romance]</td>\n",
       "      <td>Columbia Pictures Corporation</td>\n",
       "      <td>[Columbia Pictures Corporation]</td>\n",
       "      <td>3/31/2000</td>\n",
       "      <td>3</td>\n",
       "      <td>Sp</td>\n",
       "      <td>5.0</td>\n",
       "      <td>2000</td>\n",
       "      <td>-5097885</td>\n",
       "    </tr>\n",
       "    <tr>\n",
       "      <th>1875</th>\n",
       "      <td>tt0219854</td>\n",
       "      <td>65000000</td>\n",
       "      <td>69700000</td>\n",
       "      <td>The Kid</td>\n",
       "      <td>7</td>\n",
       "      <td>Bruce Willis|Spencer Breslin|Emily Mortimer|Li...</td>\n",
       "      <td>[Bruce Willis, Chi McBride, Emily Mortimer, Li...</td>\n",
       "      <td>Jon Turteltaub</td>\n",
       "      <td>[Jon Turteltaub]</td>\n",
       "      <td>Nobody ever grows up quite like they imagined.</td>\n",
       "      <td>...</td>\n",
       "      <td>Fantasy|Comedy|Family</td>\n",
       "      <td>[Comedy, Family, Fantasy]</td>\n",
       "      <td>Walt Disney Pictures</td>\n",
       "      <td>[Walt Disney Pictures]</td>\n",
       "      <td>7/7/2000</td>\n",
       "      <td>7</td>\n",
       "      <td>Su</td>\n",
       "      <td>5.9</td>\n",
       "      <td>2000</td>\n",
       "      <td>4700000</td>\n",
       "    </tr>\n",
       "    <tr>\n",
       "      <th>1876</th>\n",
       "      <td>tt0144964</td>\n",
       "      <td>25000000</td>\n",
       "      <td>15843608</td>\n",
       "      <td>Highlander: Endgame</td>\n",
       "      <td>19</td>\n",
       "      <td>Christopher Lambert|Bruce Payne|Adrian Paul|Do...</td>\n",
       "      <td>[Adrian Paul, Bruce Payne, Christopher Lambert...</td>\n",
       "      <td>Douglas Aarniokoski</td>\n",
       "      <td>[Douglas Aarniokoski]</td>\n",
       "      <td>It will take two immortals to defeat the ultim...</td>\n",
       "      <td>...</td>\n",
       "      <td>Action|Fantasy|Science Fiction</td>\n",
       "      <td>[Action, Fantasy, Science Fiction]</td>\n",
       "      <td>Davis-Panzer Productions|Dimension Films</td>\n",
       "      <td>[Davis-Panzer Productions, Dimension Films]</td>\n",
       "      <td>9/1/2000</td>\n",
       "      <td>9</td>\n",
       "      <td>Fa</td>\n",
       "      <td>4.3</td>\n",
       "      <td>2000</td>\n",
       "      <td>-9156392</td>\n",
       "    </tr>\n",
       "    <tr>\n",
       "      <th>1877</th>\n",
       "      <td>tt0199725</td>\n",
       "      <td>20000000</td>\n",
       "      <td>27728118</td>\n",
       "      <td>Love &amp; Basketball</td>\n",
       "      <td>17</td>\n",
       "      <td>Chris Warren, Jr.|Kyla Pratt|Sanaa Lathan|Omar...</td>\n",
       "      <td>[Alfre Woodard, Chris Warren, Jr., Kyla Pratt,...</td>\n",
       "      <td>Gina Prince-Bythewood</td>\n",
       "      <td>[Gina Prince-Bythewood]</td>\n",
       "      <td>All's fair in love and basketball.</td>\n",
       "      <td>...</td>\n",
       "      <td>Action|Comedy|Drama|Romance</td>\n",
       "      <td>[Action, Comedy, Drama, Romance]</td>\n",
       "      <td>40 Acres &amp; A Mule Filmworks</td>\n",
       "      <td>[40 Acres &amp; A Mule Filmworks]</td>\n",
       "      <td>4/21/2000</td>\n",
       "      <td>4</td>\n",
       "      <td>Sp</td>\n",
       "      <td>7.3</td>\n",
       "      <td>2000</td>\n",
       "      <td>7728118</td>\n",
       "    </tr>\n",
       "    <tr>\n",
       "      <th>1878</th>\n",
       "      <td>tt0176783</td>\n",
       "      <td>14000000</td>\n",
       "      <td>5108820</td>\n",
       "      <td>Gossip</td>\n",
       "      <td>6</td>\n",
       "      <td>Joshua Jackson|James Marsden|Kate Hudson|Lena ...</td>\n",
       "      <td>[James Marsden, Joshua Jackson, Kate Hudson, L...</td>\n",
       "      <td>Davis Guggenheim</td>\n",
       "      <td>[Davis Guggenheim]</td>\n",
       "      <td>It can turn you on, or turn on you.</td>\n",
       "      <td>...</td>\n",
       "      <td>Drama|Mystery|Thriller</td>\n",
       "      <td>[Drama, Mystery, Thriller]</td>\n",
       "      <td>Warner Bros. Pictures</td>\n",
       "      <td>[Warner Bros. Pictures]</td>\n",
       "      <td>4/21/2000</td>\n",
       "      <td>4</td>\n",
       "      <td>Sp</td>\n",
       "      <td>5.3</td>\n",
       "      <td>2000</td>\n",
       "      <td>-8891180</td>\n",
       "    </tr>\n",
       "    <tr>\n",
       "      <th>1879</th>\n",
       "      <td>tt0180073</td>\n",
       "      <td>13500000</td>\n",
       "      <td>7060876</td>\n",
       "      <td>Quills</td>\n",
       "      <td>6</td>\n",
       "      <td>Geoffrey Rush|Kate Winslet|Joaquin Phoenix|Mic...</td>\n",
       "      <td>[Billie Whitelaw, Geoffrey Rush, Joaquin Phoen...</td>\n",
       "      <td>Philip Kaufman</td>\n",
       "      <td>[Philip Kaufman]</td>\n",
       "      <td>There are no bad words... only bad deeds.</td>\n",
       "      <td>...</td>\n",
       "      <td>Drama</td>\n",
       "      <td>[Drama]</td>\n",
       "      <td>Fox Searchlight Pictures|Industry Entertainmen...</td>\n",
       "      <td>[Charenton Productions, Fox Searchlight Pictur...</td>\n",
       "      <td>11/22/2000</td>\n",
       "      <td>11</td>\n",
       "      <td>Fa</td>\n",
       "      <td>6.4</td>\n",
       "      <td>2000</td>\n",
       "      <td>-6439124</td>\n",
       "    </tr>\n",
       "    <tr>\n",
       "      <th>1880</th>\n",
       "      <td>tt0190374</td>\n",
       "      <td>35000000</td>\n",
       "      <td>15185241</td>\n",
       "      <td>Dungeons &amp; Dragons</td>\n",
       "      <td>18</td>\n",
       "      <td>Justin Whalin|Jeremy Irons|Thora Birch|Bruce P...</td>\n",
       "      <td>[Bruce Payne, Jeremy Irons, Justin Whalin, Tho...</td>\n",
       "      <td>Courtney Solomon</td>\n",
       "      <td>[Courtney Solomon]</td>\n",
       "      <td>This is no game.</td>\n",
       "      <td>...</td>\n",
       "      <td>Action|Adventure|Fantasy|Science Fiction</td>\n",
       "      <td>[Action, Adventure, Fantasy, Science Fiction]</td>\n",
       "      <td>New Line Cinema|Silver Pictures|Sweetpea Enter...</td>\n",
       "      <td>[New Line Cinema, Silver Pictures, Sweetpea En...</td>\n",
       "      <td>12/8/2000</td>\n",
       "      <td>12</td>\n",
       "      <td>Wi</td>\n",
       "      <td>3.9</td>\n",
       "      <td>2000</td>\n",
       "      <td>-19814759</td>\n",
       "    </tr>\n",
       "    <tr>\n",
       "      <th>1881</th>\n",
       "      <td>tt0213790</td>\n",
       "      <td>24000000</td>\n",
       "      <td>13700000</td>\n",
       "      <td>The Ladies Man</td>\n",
       "      <td>14</td>\n",
       "      <td>Tim Meadows|Karyn Parsons|Billy Dee Williams|J...</td>\n",
       "      <td>[Billy Dee Williams, Jill Talley, John Withers...</td>\n",
       "      <td>Reginald Hudlin</td>\n",
       "      <td>[Reginald Hudlin]</td>\n",
       "      <td>He's cool. He's clean. He's a love machine.</td>\n",
       "      <td>...</td>\n",
       "      <td>Comedy</td>\n",
       "      <td>[Comedy]</td>\n",
       "      <td>SNL Studios</td>\n",
       "      <td>[SNL Studios]</td>\n",
       "      <td>10/13/2000</td>\n",
       "      <td>10</td>\n",
       "      <td>Fa</td>\n",
       "      <td>5.4</td>\n",
       "      <td>2000</td>\n",
       "      <td>-10300000</td>\n",
       "    </tr>\n",
       "    <tr>\n",
       "      <th>1882</th>\n",
       "      <td>tt0217756</td>\n",
       "      <td>24000000</td>\n",
       "      <td>12372410</td>\n",
       "      <td>Ready to Rumble</td>\n",
       "      <td>15</td>\n",
       "      <td>David Arquette|Scott Caan|Oliver Platt|Rose Mc...</td>\n",
       "      <td>[Bill Goldberg, David Arquette, Oliver Platt, ...</td>\n",
       "      <td>Brian Robbins</td>\n",
       "      <td>[Brian Robbins]</td>\n",
       "      <td>They're headed to the big time...face first.</td>\n",
       "      <td>...</td>\n",
       "      <td>Action|Comedy|Drama</td>\n",
       "      <td>[Action, Comedy, Drama]</td>\n",
       "      <td>Bel Air Entertainment|Warner Bros.</td>\n",
       "      <td>[Bel Air Entertainment, Warner Bros.]</td>\n",
       "      <td>4/7/2000</td>\n",
       "      <td>4</td>\n",
       "      <td>Sp</td>\n",
       "      <td>4.4</td>\n",
       "      <td>2000</td>\n",
       "      <td>-11627590</td>\n",
       "    </tr>\n",
       "    <tr>\n",
       "      <th>1883</th>\n",
       "      <td>tt0122459</td>\n",
       "      <td>24000000</td>\n",
       "      <td>36609995</td>\n",
       "      <td>Return to Me</td>\n",
       "      <td>12</td>\n",
       "      <td>David Duchovny|Minnie Driver|Carroll O'Connor|...</td>\n",
       "      <td>[Carroll O'Connor, David Duchovny, Jim Belushi...</td>\n",
       "      <td>Bonnie Hunt</td>\n",
       "      <td>[Bonnie Hunt]</td>\n",
       "      <td>A comedy straight from the heart</td>\n",
       "      <td>...</td>\n",
       "      <td>Romance|Comedy|Drama</td>\n",
       "      <td>[Comedy, Drama, Romance]</td>\n",
       "      <td>Metro-Goldwyn-Mayer (MGM)|JLT Productions</td>\n",
       "      <td>[JLT Productions, Metro-Goldwyn-Mayer (MGM)]</td>\n",
       "      <td>4/7/2000</td>\n",
       "      <td>4</td>\n",
       "      <td>Sp</td>\n",
       "      <td>5.5</td>\n",
       "      <td>2000</td>\n",
       "      <td>12609995</td>\n",
       "    </tr>\n",
       "    <tr>\n",
       "      <th>1884</th>\n",
       "      <td>tt0120903</td>\n",
       "      <td>75000000</td>\n",
       "      <td>157299717</td>\n",
       "      <td>X-Men</td>\n",
       "      <td>5</td>\n",
       "      <td>Patrick Stewart|Hugh Jackman|Ian McKellen|Hall...</td>\n",
       "      <td>[Famke Janssen, Halle Berry, Hugh Jackman, Ian...</td>\n",
       "      <td>Bryan Singer</td>\n",
       "      <td>[Bryan Singer]</td>\n",
       "      <td>Evolution Begins</td>\n",
       "      <td>...</td>\n",
       "      <td>Adventure|Action|Science Fiction</td>\n",
       "      <td>[Action, Adventure, Science Fiction]</td>\n",
       "      <td>Twentieth Century Fox Film Corporation|Donners...</td>\n",
       "      <td>[Bad Hat Harry Productions, Donners' Company, ...</td>\n",
       "      <td>7/13/2000</td>\n",
       "      <td>7</td>\n",
       "      <td>Su</td>\n",
       "      <td>6.6</td>\n",
       "      <td>2000</td>\n",
       "      <td>82299717</td>\n",
       "    </tr>\n",
       "    <tr>\n",
       "      <th>1885</th>\n",
       "      <td>tt0192255</td>\n",
       "      <td>22000000</td>\n",
       "      <td>13555988</td>\n",
       "      <td>The Little Vampire</td>\n",
       "      <td>18</td>\n",
       "      <td>Richard E. Grant|Jonathan Lipnicki|Jim Carter|...</td>\n",
       "      <td>[Alice Krige, Jim Carter, Jonathan Lipnicki, P...</td>\n",
       "      <td>Uli Edel</td>\n",
       "      <td>[Uli Edel]</td>\n",
       "      <td>They're not just best friends, they're blood b...</td>\n",
       "      <td>...</td>\n",
       "      <td>Horror|Family|Foreign</td>\n",
       "      <td>[Family, Foreign, Horror]</td>\n",
       "      <td>New Line Cinema</td>\n",
       "      <td>[New Line Cinema]</td>\n",
       "      <td>10/27/2000</td>\n",
       "      <td>10</td>\n",
       "      <td>Fa</td>\n",
       "      <td>6.4</td>\n",
       "      <td>2000</td>\n",
       "      <td>-8444012</td>\n",
       "    </tr>\n",
       "    <tr>\n",
       "      <th>1886</th>\n",
       "      <td>tt0131704</td>\n",
       "      <td>76000000</td>\n",
       "      <td>35134820</td>\n",
       "      <td>The Adventures of Rocky &amp; Bullwinkle</td>\n",
       "      <td>36</td>\n",
       "      <td>Rene Russo|Jason Alexander|Piper Perabo|Randy ...</td>\n",
       "      <td>[Jason Alexander, Piper Perabo, Randy Quaid, R...</td>\n",
       "      <td>Des McAnuff</td>\n",
       "      <td>[Des McAnuff]</td>\n",
       "      <td>This summer it's not the same old bull.</td>\n",
       "      <td>...</td>\n",
       "      <td>Adventure|Animation|Action|Comedy|Family</td>\n",
       "      <td>[Action, Adventure, Animation, Comedy, Family]</td>\n",
       "      <td>Universal Pictures|Capella International|KC Me...</td>\n",
       "      <td>[Capella International, KC Medien AG, Tribeca ...</td>\n",
       "      <td>6/30/2000</td>\n",
       "      <td>6</td>\n",
       "      <td>Su</td>\n",
       "      <td>4.0</td>\n",
       "      <td>2000</td>\n",
       "      <td>-40865180</td>\n",
       "    </tr>\n",
       "    <tr>\n",
       "      <th>1887</th>\n",
       "      <td>tt0162983</td>\n",
       "      <td>40000000</td>\n",
       "      <td>36037909</td>\n",
       "      <td>Hanging Up</td>\n",
       "      <td>10</td>\n",
       "      <td>Meg Ryan|Diane Keaton|Lisa Kudrow|Walter Matth...</td>\n",
       "      <td>[Adam Arkin, Diane Keaton, Lisa Kudrow, Meg Ry...</td>\n",
       "      <td>Diane Keaton</td>\n",
       "      <td>[Diane Keaton]</td>\n",
       "      <td>Every family has a few hang-ups.</td>\n",
       "      <td>...</td>\n",
       "      <td>Comedy|Drama</td>\n",
       "      <td>[Comedy, Drama]</td>\n",
       "      <td>Laurence Mark Productions|Columbia Pictures Co...</td>\n",
       "      <td>[Columbia Pictures Corporation, Global Enterta...</td>\n",
       "      <td>2/16/2000</td>\n",
       "      <td>2</td>\n",
       "      <td>Wi</td>\n",
       "      <td>5.2</td>\n",
       "      <td>2000</td>\n",
       "      <td>-3962091</td>\n",
       "    </tr>\n",
       "    <tr>\n",
       "      <th>1888</th>\n",
       "      <td>tt0163676</td>\n",
       "      <td>15000000</td>\n",
       "      <td>5217498</td>\n",
       "      <td>The In Crowd</td>\n",
       "      <td>12</td>\n",
       "      <td>Susan Ward|Lori Heuring|Matthew Settle|Nathan ...</td>\n",
       "      <td>[Lori Heuring, Matthew Settle, Nathan Bexton, ...</td>\n",
       "      <td>Mary Lambert</td>\n",
       "      <td>[Mary Lambert]</td>\n",
       "      <td>What would you do to get in?</td>\n",
       "      <td>...</td>\n",
       "      <td>Thriller</td>\n",
       "      <td>[Thriller]</td>\n",
       "      <td>Warner Bros. Pictures</td>\n",
       "      <td>[Warner Bros. Pictures]</td>\n",
       "      <td>7/19/2000</td>\n",
       "      <td>7</td>\n",
       "      <td>Su</td>\n",
       "      <td>5.2</td>\n",
       "      <td>2000</td>\n",
       "      <td>-9782502</td>\n",
       "    </tr>\n",
       "  </tbody>\n",
       "</table>\n",
       "<p>20 rows × 23 columns</p>\n",
       "</div>"
      ],
      "text/plain": [
       "        imdb_id    budget    revenue                        original_title  \\\n",
       "1869  tt0211181  85000000  183611771                        102 Dalmatians   \n",
       "1870  tt0144528  84000000  123307945        Nutty Professor II: The Klumps   \n",
       "1871  tt0171433  30000000   37036004                     Keeping the Faith   \n",
       "1872  tt0134983  90000000   14828081                             Supernova   \n",
       "1873  tt0160009  40000000   30199105                        The Art of War   \n",
       "1874  tt0202402  15000000    9902115                     Whatever It Takes   \n",
       "1875  tt0219854  65000000   69700000                               The Kid   \n",
       "1876  tt0144964  25000000   15843608                   Highlander: Endgame   \n",
       "1877  tt0199725  20000000   27728118                     Love & Basketball   \n",
       "1878  tt0176783  14000000    5108820                                Gossip   \n",
       "1879  tt0180073  13500000    7060876                                Quills   \n",
       "1880  tt0190374  35000000   15185241                    Dungeons & Dragons   \n",
       "1881  tt0213790  24000000   13700000                        The Ladies Man   \n",
       "1882  tt0217756  24000000   12372410                       Ready to Rumble   \n",
       "1883  tt0122459  24000000   36609995                          Return to Me   \n",
       "1884  tt0120903  75000000  157299717                                 X-Men   \n",
       "1885  tt0192255  22000000   13555988                    The Little Vampire   \n",
       "1886  tt0131704  76000000   35134820  The Adventures of Rocky & Bullwinkle   \n",
       "1887  tt0162983  40000000   36037909                            Hanging Up   \n",
       "1888  tt0163676  15000000    5217498                          The In Crowd   \n",
       "\n",
       "     title_length                                               cast  \\\n",
       "1869           14  Glenn Close|Ioan Gruffudd|Alice Evans|Tim McIn...   \n",
       "1870           30  Eddie Murphy|Janet Jackson|Larry Miller|John A...   \n",
       "1871           17  Ben Stiller|Edward Norton|Jenna Elfman|Anne Ba...   \n",
       "1872            9  James Spader|Angela Bassett|Robert Forster|Lou...   \n",
       "1873           14  Wesley Snipes|Donald Sutherland|Maury Chaykin|...   \n",
       "1874           17  Jodi Lyn O'Keefe|Shane West|Marla Sokoloff|Jam...   \n",
       "1875            7  Bruce Willis|Spencer Breslin|Emily Mortimer|Li...   \n",
       "1876           19  Christopher Lambert|Bruce Payne|Adrian Paul|Do...   \n",
       "1877           17  Chris Warren, Jr.|Kyla Pratt|Sanaa Lathan|Omar...   \n",
       "1878            6  Joshua Jackson|James Marsden|Kate Hudson|Lena ...   \n",
       "1879            6  Geoffrey Rush|Kate Winslet|Joaquin Phoenix|Mic...   \n",
       "1880           18  Justin Whalin|Jeremy Irons|Thora Birch|Bruce P...   \n",
       "1881           14  Tim Meadows|Karyn Parsons|Billy Dee Williams|J...   \n",
       "1882           15  David Arquette|Scott Caan|Oliver Platt|Rose Mc...   \n",
       "1883           12  David Duchovny|Minnie Driver|Carroll O'Connor|...   \n",
       "1884            5  Patrick Stewart|Hugh Jackman|Ian McKellen|Hall...   \n",
       "1885           18  Richard E. Grant|Jonathan Lipnicki|Jim Carter|...   \n",
       "1886           36  Rene Russo|Jason Alexander|Piper Perabo|Randy ...   \n",
       "1887           10  Meg Ryan|Diane Keaton|Lisa Kudrow|Walter Matth...   \n",
       "1888           12  Susan Ward|Lori Heuring|Matthew Settle|Nathan ...   \n",
       "\n",
       "                                               cast_lst  \\\n",
       "1869  [Alice Evans, Glenn Close, GÃ©rard Depardieu, ...   \n",
       "1870  [Eddie Murphy, Janet Jackson, John Ales, Larry...   \n",
       "1871  [Anne Bancroft, Ben Stiller, Edward Norton, El...   \n",
       "1872  [Angela Bassett, James Spader, Lou Diamond Phi...   \n",
       "1873  [Anne Archer, Donald Sutherland, Maury Chaykin...   \n",
       "1874  [Aaron Paul, James Franco, Jodi Lyn O'Keefe, M...   \n",
       "1875  [Bruce Willis, Chi McBride, Emily Mortimer, Li...   \n",
       "1876  [Adrian Paul, Bruce Payne, Christopher Lambert...   \n",
       "1877  [Alfre Woodard, Chris Warren, Jr., Kyla Pratt,...   \n",
       "1878  [James Marsden, Joshua Jackson, Kate Hudson, L...   \n",
       "1879  [Billie Whitelaw, Geoffrey Rush, Joaquin Phoen...   \n",
       "1880  [Bruce Payne, Jeremy Irons, Justin Whalin, Tho...   \n",
       "1881  [Billy Dee Williams, Jill Talley, John Withers...   \n",
       "1882  [Bill Goldberg, David Arquette, Oliver Platt, ...   \n",
       "1883  [Carroll O'Connor, David Duchovny, Jim Belushi...   \n",
       "1884  [Famke Janssen, Halle Berry, Hugh Jackman, Ian...   \n",
       "1885  [Alice Krige, Jim Carter, Jonathan Lipnicki, P...   \n",
       "1886  [Jason Alexander, Piper Perabo, Randy Quaid, R...   \n",
       "1887  [Adam Arkin, Diane Keaton, Lisa Kudrow, Meg Ry...   \n",
       "1888  [Lori Heuring, Matthew Settle, Nathan Bexton, ...   \n",
       "\n",
       "                      director                 director_lst  \\\n",
       "1869                Kevin Lima                 [Kevin Lima]   \n",
       "1870               Peter Segal                [Peter Segal]   \n",
       "1871             Edward Norton              [Edward Norton]   \n",
       "1872  Walter Hill|Jack Sholder  [Jack Sholder, Walter Hill]   \n",
       "1873          Christian Duguay           [Christian Duguay]   \n",
       "1874               David Raynr                [David Raynr]   \n",
       "1875            Jon Turteltaub             [Jon Turteltaub]   \n",
       "1876       Douglas Aarniokoski        [Douglas Aarniokoski]   \n",
       "1877     Gina Prince-Bythewood      [Gina Prince-Bythewood]   \n",
       "1878          Davis Guggenheim           [Davis Guggenheim]   \n",
       "1879            Philip Kaufman             [Philip Kaufman]   \n",
       "1880          Courtney Solomon           [Courtney Solomon]   \n",
       "1881           Reginald Hudlin            [Reginald Hudlin]   \n",
       "1882             Brian Robbins              [Brian Robbins]   \n",
       "1883               Bonnie Hunt                [Bonnie Hunt]   \n",
       "1884              Bryan Singer               [Bryan Singer]   \n",
       "1885                  Uli Edel                   [Uli Edel]   \n",
       "1886               Des McAnuff                [Des McAnuff]   \n",
       "1887              Diane Keaton               [Diane Keaton]   \n",
       "1888              Mary Lambert               [Mary Lambert]   \n",
       "\n",
       "                                                tagline  ...  \\\n",
       "1869      Meet Two Unlikely Heroes With A Bone To Pick.  ...   \n",
       "1870                               The Klumps are back!  ...   \n",
       "1871  If you have to believe in something, you may a...  ...   \n",
       "1872  In the farthest reaches of space, something ha...  ...   \n",
       "1873                                   Who is your foe?  ...   \n",
       "1874  How low will they go to get the girls of their...  ...   \n",
       "1875     Nobody ever grows up quite like they imagined.  ...   \n",
       "1876  It will take two immortals to defeat the ultim...  ...   \n",
       "1877                 All's fair in love and basketball.  ...   \n",
       "1878                It can turn you on, or turn on you.  ...   \n",
       "1879          There are no bad words... only bad deeds.  ...   \n",
       "1880                                   This is no game.  ...   \n",
       "1881        He's cool. He's clean. He's a love machine.  ...   \n",
       "1882       They're headed to the big time...face first.  ...   \n",
       "1883                   A comedy straight from the heart  ...   \n",
       "1884                                   Evolution Begins  ...   \n",
       "1885  They're not just best friends, they're blood b...  ...   \n",
       "1886            This summer it's not the same old bull.  ...   \n",
       "1887                   Every family has a few hang-ups.  ...   \n",
       "1888                       What would you do to get in?  ...   \n",
       "\n",
       "                                        genres  \\\n",
       "1869                             Comedy|Family   \n",
       "1870    Fantasy|Comedy|Romance|Science Fiction   \n",
       "1871                                    Comedy   \n",
       "1872                           Science Fiction   \n",
       "1873                 Action|Adventure|Thriller   \n",
       "1874                      Drama|Comedy|Romance   \n",
       "1875                     Fantasy|Comedy|Family   \n",
       "1876            Action|Fantasy|Science Fiction   \n",
       "1877               Action|Comedy|Drama|Romance   \n",
       "1878                    Drama|Mystery|Thriller   \n",
       "1879                                     Drama   \n",
       "1880  Action|Adventure|Fantasy|Science Fiction   \n",
       "1881                                    Comedy   \n",
       "1882                       Action|Comedy|Drama   \n",
       "1883                      Romance|Comedy|Drama   \n",
       "1884          Adventure|Action|Science Fiction   \n",
       "1885                     Horror|Family|Foreign   \n",
       "1886  Adventure|Animation|Action|Comedy|Family   \n",
       "1887                              Comedy|Drama   \n",
       "1888                                  Thriller   \n",
       "\n",
       "                                          genres_lst  \\\n",
       "1869                                [Comedy, Family]   \n",
       "1870     [Comedy, Fantasy, Romance, Science Fiction]   \n",
       "1871                                        [Comedy]   \n",
       "1872                               [Science Fiction]   \n",
       "1873                   [Action, Adventure, Thriller]   \n",
       "1874                        [Comedy, Drama, Romance]   \n",
       "1875                       [Comedy, Family, Fantasy]   \n",
       "1876              [Action, Fantasy, Science Fiction]   \n",
       "1877                [Action, Comedy, Drama, Romance]   \n",
       "1878                      [Drama, Mystery, Thriller]   \n",
       "1879                                         [Drama]   \n",
       "1880   [Action, Adventure, Fantasy, Science Fiction]   \n",
       "1881                                        [Comedy]   \n",
       "1882                         [Action, Comedy, Drama]   \n",
       "1883                        [Comedy, Drama, Romance]   \n",
       "1884            [Action, Adventure, Science Fiction]   \n",
       "1885                       [Family, Foreign, Horror]   \n",
       "1886  [Action, Adventure, Animation, Comedy, Family]   \n",
       "1887                                 [Comedy, Drama]   \n",
       "1888                                      [Thriller]   \n",
       "\n",
       "                                   production_companies  \\\n",
       "1869           Walt Disney Pictures|Cruella Productions   \n",
       "1870           Imagine Entertainment|Universal Pictures   \n",
       "1871  Spyglass Entertainment|Touchstone Pictures|Tri...   \n",
       "1872  United Artists|Metro-Goldwyn-Mayer (MGM)|Hamme...   \n",
       "1873  Amen Ra Films|Franchise Pictures|Warner Bros.|...   \n",
       "1874                      Columbia Pictures Corporation   \n",
       "1875                               Walt Disney Pictures   \n",
       "1876           Davis-Panzer Productions|Dimension Films   \n",
       "1877                        40 Acres & A Mule Filmworks   \n",
       "1878                              Warner Bros. Pictures   \n",
       "1879  Fox Searchlight Pictures|Industry Entertainmen...   \n",
       "1880  New Line Cinema|Silver Pictures|Sweetpea Enter...   \n",
       "1881                                        SNL Studios   \n",
       "1882                 Bel Air Entertainment|Warner Bros.   \n",
       "1883          Metro-Goldwyn-Mayer (MGM)|JLT Productions   \n",
       "1884  Twentieth Century Fox Film Corporation|Donners...   \n",
       "1885                                    New Line Cinema   \n",
       "1886  Universal Pictures|Capella International|KC Me...   \n",
       "1887  Laurence Mark Productions|Columbia Pictures Co...   \n",
       "1888                              Warner Bros. Pictures   \n",
       "\n",
       "                               production_companies_lst release_date  \\\n",
       "1869        [Cruella Productions, Walt Disney Pictures]    10/7/2000   \n",
       "1870        [Imagine Entertainment, Universal Pictures]    7/27/2000   \n",
       "1871  [Spyglass Entertainment, Touchstone Pictures, ...    4/14/2000   \n",
       "1872  [Hammerhead Productions, Metro-Goldwyn-Mayer (...    1/14/2000   \n",
       "1873  [Amen Ra Films, Franchise Pictures, Morgan Cre...    8/23/2000   \n",
       "1874                    [Columbia Pictures Corporation]    3/31/2000   \n",
       "1875                             [Walt Disney Pictures]     7/7/2000   \n",
       "1876        [Davis-Panzer Productions, Dimension Films]     9/1/2000   \n",
       "1877                      [40 Acres & A Mule Filmworks]    4/21/2000   \n",
       "1878                            [Warner Bros. Pictures]    4/21/2000   \n",
       "1879  [Charenton Productions, Fox Searchlight Pictur...   11/22/2000   \n",
       "1880  [New Line Cinema, Silver Pictures, Sweetpea En...    12/8/2000   \n",
       "1881                                      [SNL Studios]   10/13/2000   \n",
       "1882              [Bel Air Entertainment, Warner Bros.]     4/7/2000   \n",
       "1883       [JLT Productions, Metro-Goldwyn-Mayer (MGM)]     4/7/2000   \n",
       "1884  [Bad Hat Harry Productions, Donners' Company, ...    7/13/2000   \n",
       "1885                                  [New Line Cinema]   10/27/2000   \n",
       "1886  [Capella International, KC Medien AG, Tribeca ...    6/30/2000   \n",
       "1887  [Columbia Pictures Corporation, Global Enterta...    2/16/2000   \n",
       "1888                            [Warner Bros. Pictures]    7/19/2000   \n",
       "\n",
       "     release_month release_season vote_average release_year    profit  \n",
       "1869            10             Fa          5.0         2000  98611771  \n",
       "1870             7             Su          4.8         2000  39307945  \n",
       "1871             4             Sp          5.7         2000   7036004  \n",
       "1872             1             Wi          4.7         2000 -75171919  \n",
       "1873             8             Su          5.7         2000  -9800895  \n",
       "1874             3             Sp          5.0         2000  -5097885  \n",
       "1875             7             Su          5.9         2000   4700000  \n",
       "1876             9             Fa          4.3         2000  -9156392  \n",
       "1877             4             Sp          7.3         2000   7728118  \n",
       "1878             4             Sp          5.3         2000  -8891180  \n",
       "1879            11             Fa          6.4         2000  -6439124  \n",
       "1880            12             Wi          3.9         2000 -19814759  \n",
       "1881            10             Fa          5.4         2000 -10300000  \n",
       "1882             4             Sp          4.4         2000 -11627590  \n",
       "1883             4             Sp          5.5         2000  12609995  \n",
       "1884             7             Su          6.6         2000  82299717  \n",
       "1885            10             Fa          6.4         2000  -8444012  \n",
       "1886             6             Su          4.0         2000 -40865180  \n",
       "1887             2             Wi          5.2         2000  -3962091  \n",
       "1888             7             Su          5.2         2000  -9782502  \n",
       "\n",
       "[20 rows x 23 columns]"
      ]
     },
     "metadata": {},
     "output_type": "display_data"
    }
   ],
   "source": [
    "display(data.tail(20))"
   ]
  },
  {
   "cell_type": "markdown",
   "metadata": {},
   "source": [
    "<h3>Solutions below are using the following convention for naming</h3>\n",
    "\n",
    "<b> res</b> - final result of step calculations<br>\n",
    "<b>s, s1</b> - service variables used as interims to arrive to result"
   ]
  },
  {
   "cell_type": "markdown",
   "metadata": {
    "colab_type": "text",
    "id": "YxZaH-nPVp-L"
   },
   "source": [
    "# 1. У какого фильма из списка самый большой бюджет?"
   ]
  },
  {
   "cell_type": "markdown",
   "metadata": {
    "colab_type": "text",
    "id": "Nd-G5gX6Vp-M"
   },
   "source": [
    "Использовать варианты ответов в коде решения запрещено.    \n",
    "Вы думаете и в жизни у вас будут варианты ответов?)"
   ]
  },
  {
   "cell_type": "code",
   "execution_count": 13,
   "metadata": {
    "colab": {},
    "colab_type": "code",
    "id": "uVnXAY5RVp-O"
   },
   "outputs": [],
   "source": [
    "# в словарь вставляем номер вопроса и ваш ответ на него\n",
    "# Пример: \n",
    "answers['1'] = '2. Spider-Man 3 (tt0413300)'\n",
    "# запишите свой вариант ответа\n",
    "answers['1'] = '...'\n",
    "# если ответили верно, можете добавить комментарий со значком \"+\""
   ]
  },
  {
   "cell_type": "code",
   "execution_count": 14,
   "metadata": {
    "colab": {},
    "colab_type": "code",
    "id": "dZwb3m28Vp-S"
   },
   "outputs": [
    {
     "data": {
      "text/plain": [
       "'Pirates of the Caribbean: On Stranger Tides'"
      ]
     },
     "metadata": {},
     "output_type": "display_data"
    }
   ],
   "source": [
    "res = data[data.budget==data.budget.max()].original_title.iloc[0]\n",
    "\n",
    "answers['1'] = res\n",
    "display(res)"
   ]
  },
  {
   "cell_type": "markdown",
   "metadata": {
    "colab_type": "text",
    "id": "K7L3nbRXVp-X"
   },
   "source": [
    "ВАРИАНТ 2"
   ]
  },
  {
   "cell_type": "code",
   "execution_count": 15,
   "metadata": {
    "colab": {},
    "colab_type": "code",
    "id": "OGaoQI7rVp-X"
   },
   "outputs": [],
   "source": [
    "# можно добавлять разные варианты решения"
   ]
  },
  {
   "cell_type": "markdown",
   "metadata": {
    "colab_type": "text",
    "id": "FNRbbI3vVp-c"
   },
   "source": [
    "# 2. Какой из фильмов самый длительный (в минутах)?"
   ]
  },
  {
   "cell_type": "code",
   "execution_count": 16,
   "metadata": {
    "colab": {},
    "colab_type": "code",
    "id": "vHAoEXNTVp-d"
   },
   "outputs": [],
   "source": [
    "# думаю логику работы с этим словарем вы уже поняли, \n",
    "# по этому не буду больше его дублировать\n",
    "answers['2'] = '...'"
   ]
  },
  {
   "cell_type": "code",
   "execution_count": 17,
   "metadata": {
    "colab": {},
    "colab_type": "code",
    "id": "ot-VX2XrVp-g"
   },
   "outputs": [
    {
     "data": {
      "text/plain": [
       "'Gods and Generals'"
      ]
     },
     "metadata": {},
     "output_type": "display_data"
    }
   ],
   "source": [
    "res = data[data.runtime==data.runtime.max()].original_title.iloc[0]\n",
    "\n",
    "answers['2'] = res\n",
    "display(res)"
   ]
  },
  {
   "cell_type": "markdown",
   "metadata": {
    "colab_type": "text",
    "id": "bapLlpW8Vp-k"
   },
   "source": [
    "# 3. Какой из фильмов самый короткий (в минутах)?\n",
    "\n",
    "\n",
    "\n"
   ]
  },
  {
   "cell_type": "code",
   "execution_count": 18,
   "metadata": {
    "colab": {},
    "colab_type": "code",
    "id": "YBxaSHuAVp-l"
   },
   "outputs": [
    {
     "data": {
      "text/plain": [
       "'Winnie the Pooh'"
      ]
     },
     "metadata": {},
     "output_type": "display_data"
    }
   ],
   "source": [
    "res = data[data.runtime==data.runtime.min()].original_title.iloc[0]\n",
    "\n",
    "answers['3'] = res\n",
    "display(res)"
   ]
  },
  {
   "cell_type": "markdown",
   "metadata": {
    "colab_type": "text",
    "id": "TfQbxbfNVp-p"
   },
   "source": [
    "# 4. Какова средняя длительность фильмов?\n"
   ]
  },
  {
   "cell_type": "code",
   "execution_count": 19,
   "metadata": {
    "colab": {},
    "colab_type": "code",
    "id": "5K6dKZYVVp-q"
   },
   "outputs": [
    {
     "data": {
      "text/plain": [
       "109.6585494970884"
      ]
     },
     "metadata": {},
     "output_type": "display_data"
    }
   ],
   "source": [
    "res = data.runtime.mean()\n",
    "\n",
    "answers['4'] = res\n",
    "display(res)"
   ]
  },
  {
   "cell_type": "markdown",
   "metadata": {
    "colab_type": "text",
    "id": "r5TvbnT_Vp-u"
   },
   "source": [
    "# 5. Каково медианное значение длительности фильмов? "
   ]
  },
  {
   "cell_type": "code",
   "execution_count": 20,
   "metadata": {
    "colab": {},
    "colab_type": "code",
    "id": "iBROplKnVp-v"
   },
   "outputs": [
    {
     "data": {
      "text/plain": [
       "107.0"
      ]
     },
     "metadata": {},
     "output_type": "display_data"
    }
   ],
   "source": [
    "res = data.runtime.median()\n",
    "\n",
    "answers['5'] = res\n",
    "display(res)"
   ]
  },
  {
   "cell_type": "markdown",
   "metadata": {
    "colab_type": "text",
    "id": "39P-deDSVp-y"
   },
   "source": [
    "# 6. Какой самый прибыльный фильм?\n",
    "#### Внимание! Здесь и далее под «прибылью» или «убытками» понимается разность между сборами и бюджетом фильма. (прибыль = сборы - бюджет) в нашем датасете это будет (profit = revenue - budget) "
   ]
  },
  {
   "cell_type": "code",
   "execution_count": 21,
   "metadata": {
    "colab": {},
    "colab_type": "code",
    "id": "UYZh4T9WVp-y"
   },
   "outputs": [
    {
     "data": {
      "text/plain": [
       "'Avatar'"
      ]
     },
     "metadata": {},
     "output_type": "display_data"
    }
   ],
   "source": [
    "res = data[data.profit==data.profit.max()].original_title.iloc[0]\n",
    "\n",
    "answers['6'] = res\n",
    "display(res)"
   ]
  },
  {
   "cell_type": "markdown",
   "metadata": {
    "colab_type": "text",
    "id": "M99JmIX4Vp-2"
   },
   "source": [
    "# 7. Какой фильм самый убыточный? "
   ]
  },
  {
   "cell_type": "code",
   "execution_count": 22,
   "metadata": {
    "colab": {},
    "colab_type": "code",
    "id": "w-D2m4XPVp-3"
   },
   "outputs": [
    {
     "data": {
      "text/plain": [
       "'The Lone Ranger'"
      ]
     },
     "metadata": {},
     "output_type": "display_data"
    }
   ],
   "source": [
    "res = data[data.profit==data.profit.min()].original_title.iloc[0]\n",
    "\n",
    "answers['7'] = res\n",
    "display(res)"
   ]
  },
  {
   "cell_type": "markdown",
   "metadata": {
    "colab_type": "text",
    "id": "wEOM5ERVVp-6"
   },
   "source": [
    "# 8. У скольких фильмов из датасета объем сборов оказался выше бюджета?"
   ]
  },
  {
   "cell_type": "code",
   "execution_count": 23,
   "metadata": {
    "colab": {},
    "colab_type": "code",
    "id": "y00_7HD6Vp-7"
   },
   "outputs": [
    {
     "data": {
      "text/plain": [
       "1478"
      ]
     },
     "metadata": {},
     "output_type": "display_data"
    }
   ],
   "source": [
    "res = len(data[data.profit>0])\n",
    "\n",
    "answers['8'] = res\n",
    "display(res)"
   ]
  },
  {
   "cell_type": "markdown",
   "metadata": {
    "colab_type": "text",
    "id": "xhpspA9KVp_A"
   },
   "source": [
    "# 9. Какой фильм оказался самым кассовым в 2008 году?"
   ]
  },
  {
   "cell_type": "code",
   "execution_count": 24,
   "metadata": {
    "colab": {},
    "colab_type": "code",
    "id": "MoUyQr9RVp_B"
   },
   "outputs": [
    {
     "data": {
      "text/plain": [
       "'The Dark Knight'"
      ]
     },
     "metadata": {},
     "output_type": "display_data"
    }
   ],
   "source": [
    "#Method1: concise approach\n",
    "res = data[(data.release_year==2008) & (data.revenue==data.revenue[data.release_year==2008].max())]\\\n",
    "     .original_title.iloc[0]\n",
    "\n",
    "answers['9'] = res\n",
    "display(res)"
   ]
  },
  {
   "cell_type": "code",
   "execution_count": 25,
   "metadata": {},
   "outputs": [
    {
     "data": {
      "text/plain": [
       "'The Dark Knight'"
      ]
     },
     "metadata": {},
     "output_type": "display_data"
    }
   ],
   "source": [
    "#Method2: comprehensible approach\n",
    "movies_2008 = data[(data.release_year==2008)]\n",
    "res = movies_2008[movies_2008.revenue==movies_2008.revenue.max()].original_title.iloc[0]\n",
    "\n",
    "answers['9'] = res\n",
    "display(res)"
   ]
  },
  {
   "cell_type": "markdown",
   "metadata": {
    "colab_type": "text",
    "id": "Zi4hDKidVp_F"
   },
   "source": [
    "# 10. Самый убыточный фильм за период с 2012 по 2014 г. (включительно)?\n"
   ]
  },
  {
   "cell_type": "code",
   "execution_count": 26,
   "metadata": {
    "colab": {},
    "colab_type": "code",
    "id": "XqyRmufJVp_F"
   },
   "outputs": [
    {
     "name": "stdout",
     "output_type": "stream",
     "text": [
      "0.005335357769\n"
     ]
    }
   ],
   "source": [
    "#time Method1\n",
    "import timeit\n",
    "start_time = timeit.default_timer()\n",
    "\n",
    "for x in range(1000):\n",
    "    minprof = data[(data.release_year>2011) & (data.release_year<2015)].profit.min()\n",
    "    res = data[(data.release_year>2011) & (data.release_year<2015) & (data.profit==minprof)] \\\n",
    "         .original_title.iloc[0]\n",
    "elapsed = timeit.default_timer() - start_time\n",
    "\n",
    "print(elapsed/1000)"
   ]
  },
  {
   "cell_type": "code",
   "execution_count": 27,
   "metadata": {},
   "outputs": [
    {
     "name": "stdout",
     "output_type": "stream",
     "text": [
      "0.003312611974000001\n"
     ]
    }
   ],
   "source": [
    "#time Method2\n",
    "import timeit\n",
    "start_time = timeit.default_timer()\n",
    "\n",
    "for x in range(1000):\n",
    "    selyears = data[(data.release_year>2011) & (data.release_year<2015)]\n",
    "    res = selyears[selyears.profit==selyears.profit.min()].original_title.iloc[0]\n",
    "elapsed = timeit.default_timer() - start_time\n",
    "\n",
    "print(elapsed/1000)"
   ]
  },
  {
   "cell_type": "code",
   "execution_count": 28,
   "metadata": {},
   "outputs": [
    {
     "data": {
      "text/plain": [
       "'The Lone Ranger'"
      ]
     },
     "metadata": {},
     "output_type": "display_data"
    }
   ],
   "source": [
    "#Go for a faster method (Method2)\n",
    "\n",
    "s = data[(data.release_year>2011) & (data.release_year<2015)] #all movies between 2012 and 2014\n",
    "res = s[s.profit==s.profit.min()].original_title.iloc[0]\n",
    "\n",
    "answers['10'] = res\n",
    "display(res)"
   ]
  },
  {
   "cell_type": "markdown",
   "metadata": {
    "colab_type": "text",
    "id": "EA7Sa9dkVp_I"
   },
   "source": [
    "# 11. Какого жанра фильмов больше всего?"
   ]
  },
  {
   "cell_type": "code",
   "execution_count": 51,
   "metadata": {
    "colab": {},
    "colab_type": "code",
    "id": "otO3SbrSVp_N"
   },
   "outputs": [
    {
     "data": {
      "text/plain": [
       "'Drama'"
      ]
     },
     "metadata": {},
     "output_type": "display_data"
    }
   ],
   "source": [
    "#Method1: using series stacking\n",
    "s = data['genres_lst'].apply(pd.Series).stack().reset_index(drop=True) #Series of exploded genres\n",
    "res = Counter(s).most_common()[0][0]\n",
    "\n",
    "answers['11'] = res\n",
    "display(res)"
   ]
  },
  {
   "cell_type": "code",
   "execution_count": 59,
   "metadata": {},
   "outputs": [
    {
     "data": {
      "text/plain": [
       "'Drama'"
      ]
     },
     "metadata": {},
     "output_type": "display_data"
    }
   ],
   "source": [
    "#Method2: without series stacking\n",
    "\n",
    "genres = []\n",
    "for g in data['genres']:\n",
    "    for h in g.split('|'):\n",
    "        genres.append(h)\n",
    "\n",
    "res = Counter(genres).most_common()[0][0]\n",
    "\n",
    "answers['11'] = res\n",
    "display(res)"
   ]
  },
  {
   "cell_type": "markdown",
   "metadata": {},
   "source": [
    "# 12. Фильмы какого жанра чаще всего становятся прибыльными? "
   ]
  },
  {
   "cell_type": "code",
   "execution_count": 30,
   "metadata": {},
   "outputs": [
    {
     "data": {
      "text/plain": [
       "'Drama'"
      ]
     },
     "metadata": {},
     "output_type": "display_data"
    }
   ],
   "source": [
    "#Method1: with series stacking\n",
    "\n",
    "s = data[data.profit>0]['genres_lst'] # genres of profitable movies\n",
    "s1 = s.apply(pd.Series).stack().reset_index(drop=True) # stacked list of genres of profitable movies\n",
    "res = Counter(s1).most_common()[0][0]\n",
    "\n",
    "answers['12'] = res\n",
    "display(res)"
   ]
  },
  {
   "cell_type": "code",
   "execution_count": 60,
   "metadata": {},
   "outputs": [
    {
     "data": {
      "text/plain": [
       "'Drama'"
      ]
     },
     "metadata": {},
     "output_type": "display_data"
    }
   ],
   "source": [
    "#Method2: without series stacking\n",
    "\n",
    "genres = []\n",
    "for g in data[data.profit>0]['genres']:\n",
    "    for h in g.split('|'):\n",
    "        genres.append(h)\n",
    "\n",
    "res = Counter(genres).most_common()[0][0]\n",
    "\n",
    "answers['12'] = res\n",
    "display(res)"
   ]
  },
  {
   "cell_type": "markdown",
   "metadata": {
    "colab_type": "text",
    "id": "0F23bgsDVp_U"
   },
   "source": [
    "# 13. У какого режиссера самые большие суммарные кассовые сбооры?"
   ]
  },
  {
   "cell_type": "code",
   "execution_count": 31,
   "metadata": {},
   "outputs": [
    {
     "data": {
      "text/plain": [
       "'Peter Jackson'"
      ]
     },
     "metadata": {},
     "output_type": "display_data"
    }
   ],
   "source": [
    "#Method1: with df explosion\n",
    "s = data[['director_lst', 'revenue']]\n",
    "\n",
    "res = s.explode('director_lst').reset_index(drop=True).groupby('director_lst').sum() \\\n",
    "     .sort_values(by=['revenue']).index[-1]\n",
    "\n",
    "answers['13'] = res\n",
    "display(res)"
   ]
  },
  {
   "cell_type": "code",
   "execution_count": 93,
   "metadata": {},
   "outputs": [
    {
     "data": {
      "text/plain": [
       "'Peter Jackson'"
      ]
     },
     "metadata": {},
     "output_type": "display_data"
    }
   ],
   "source": [
    "#Method2: without df explosion (takes longer, but relies on lecture materials only)\n",
    "\n",
    "directors_revenue = pd.DataFrame(columns=['director', 'revenue'])\n",
    "\n",
    "for i in range(len(data)):\n",
    "    for j in data.loc[i,'director'].split('|'):\n",
    "        df = pd.DataFrame({'director':[j], 'revenue': [data.loc[i,'revenue']]})\n",
    "        directors_revenue = directors_revenue.append(df, ignore_index=True)\n",
    "\n",
    "res = directors_revenue.groupby('director').sum().sort_values(by=['revenue']).index[-1]\n",
    "\n",
    "answers['13'] = res\n",
    "display(res)"
   ]
  },
  {
   "cell_type": "markdown",
   "metadata": {},
   "source": [
    "# 14. Какой режисер снял больше всего фильмов в стиле Action?"
   ]
  },
  {
   "cell_type": "code",
   "execution_count": 32,
   "metadata": {},
   "outputs": [
    {
     "data": {
      "text/plain": [
       "'Robert Rodriguez'"
      ]
     },
     "metadata": {},
     "output_type": "display_data"
    }
   ],
   "source": [
    "#Method1: df explode\n",
    "s = data[['director_lst', 'genres_lst']]\n",
    "s1 = s.explode('director_lst').explode('genres_lst')\n",
    "res = Counter(s1[s1.genres_lst=='Action']['director_lst']).most_common()[0][0]\n",
    "\n",
    "answers['14'] = res\n",
    "display(res)"
   ]
  },
  {
   "cell_type": "code",
   "execution_count": 33,
   "metadata": {},
   "outputs": [
    {
     "data": {
      "text/plain": [
       "'Robert Rodriguez'"
      ]
     },
     "metadata": {},
     "output_type": "display_data"
    }
   ],
   "source": [
    "#Method2: series split\n",
    "s = data[data.genres.str.contains('Action')]['director_lst']\n",
    "s1 = s.apply(pd.Series).stack().reset_index(drop=True)\n",
    "res = Counter(s1).most_common()[0][0]\n",
    "\n",
    "answers['14'] = res\n",
    "display(res)"
   ]
  },
  {
   "cell_type": "code",
   "execution_count": 100,
   "metadata": {},
   "outputs": [
    {
     "data": {
      "text/plain": [
       "'Robert Rodriguez'"
      ]
     },
     "metadata": {},
     "output_type": "display_data"
    }
   ],
   "source": [
    "#Method3: dumb approach\n",
    "\n",
    "action_directors = []\n",
    "\n",
    "for i in range(len(data)):\n",
    "    if 'Action' in data.loc[i,'genres']:\n",
    "        for j in data.loc[i,'director'].split('|'):\n",
    "            action_directors.append(j)\n",
    "\n",
    "res = Counter(action_directors).most_common()[0][0]\n",
    "\n",
    "answers['14'] = res\n",
    "display(res)"
   ]
  },
  {
   "cell_type": "markdown",
   "metadata": {
    "colab_type": "text",
    "id": "PQ0KciD7Vp_f"
   },
   "source": [
    "# 15. Фильмы с каким актером принесли самые высокие кассовые сборы в 2012 году? "
   ]
  },
  {
   "cell_type": "code",
   "execution_count": 34,
   "metadata": {},
   "outputs": [
    {
     "data": {
      "text/plain": [
       "'Chris Hemsworth'"
      ]
     },
     "metadata": {},
     "output_type": "display_data"
    }
   ],
   "source": [
    "#Method1: explode df\n",
    "\n",
    "s = data[data.release_year==2012][['cast_lst', 'revenue']]\n",
    "res = s.explode('cast_lst').groupby('cast_lst').sum().sort_values(by=['revenue']).index[-1]\n",
    "\n",
    "answers['15'] = res\n",
    "display(res)"
   ]
  },
  {
   "cell_type": "code",
   "execution_count": 101,
   "metadata": {},
   "outputs": [
    {
     "data": {
      "text/plain": [
       "'Chris Hemsworth'"
      ]
     },
     "metadata": {},
     "output_type": "display_data"
    }
   ],
   "source": [
    "#Method2: dumb approach\n",
    "\n",
    "cast_revenue = pd.DataFrame(columns=['cast', 'revenue'])\n",
    "\n",
    "for i in range(len(data)):\n",
    "    if data.loc[i,'release_year']==2012:    \n",
    "        for j in data.loc[i,'cast'].split('|'):\n",
    "            df = pd.DataFrame({'cast':[j], 'revenue': [data.loc[i,'revenue']]})\n",
    "            cast_revenue = cast_revenue.append(df, ignore_index=True)\n",
    "\n",
    "res = cast_revenue.groupby('cast').sum().sort_values(by=['revenue']).index[-1]\n",
    "\n",
    "answers['15'] = res\n",
    "display(res)\n"
   ]
  },
  {
   "cell_type": "markdown",
   "metadata": {
    "colab_type": "text",
    "id": "mWHyyL7QVp_j"
   },
   "source": [
    "# 16. Какой актер снялся в большем количестве высокобюджетных фильмов?"
   ]
  },
  {
   "cell_type": "code",
   "execution_count": 35,
   "metadata": {},
   "outputs": [
    {
     "data": {
      "text/plain": [
       "'Matt Damon'"
      ]
     },
     "metadata": {},
     "output_type": "display_data"
    }
   ],
   "source": [
    "#NB: определение высокобюджетности некорректно, поскольку бюджет фильмов не учитывает инфляции.\n",
    "#Корректнее было бы сравнивать бюджет к среднему по конкретному году\n",
    "\n",
    "s = data[data.budget>data.budget.mean()]['cast_lst']\n",
    "s1 = s.apply(pd.Series).stack().reset_index(drop=True)\n",
    "res = Counter(s1).most_common()[0][0]\n",
    "\n",
    "answers['16'] = res\n",
    "display(res)"
   ]
  },
  {
   "cell_type": "code",
   "execution_count": 120,
   "metadata": {},
   "outputs": [
    {
     "data": {
      "text/plain": [
       "'Matt Damon'"
      ]
     },
     "metadata": {},
     "output_type": "display_data"
    }
   ],
   "source": [
    "#Более экономически обоснованный подход: то, высокобюджетный ли фильм, считается по отношению к среднему по \n",
    "#фильмам аналогичного года выпуска\n",
    "\n",
    "years=data.release_year.unique()\n",
    "mean_budget=pd.DataFrame(index=years, columns=['mean_budget'])\n",
    "\n",
    "for i in years:\n",
    "    mean_budget.at[i,'mean_budget']=data[data.release_year==i].budget.mean()\n",
    "    \n",
    "high_budget_cast=[]\n",
    "\n",
    "for i in range(len(data)):\n",
    "    if data.loc[i, 'budget'] > mean_budget.loc[data.loc[i,'release_year']][0]:\n",
    "        for j in data.loc[i,'cast'].split('|'):\n",
    "            high_budget_cast.append(j)\n",
    "\n",
    "res = Counter(high_budget_cast).most_common()[0][0]\n",
    "\n",
    "display(res)"
   ]
  },
  {
   "cell_type": "markdown",
   "metadata": {},
   "source": [
    "# 17. В фильмах какого жанра больше всего снимался Nicolas Cage? "
   ]
  },
  {
   "cell_type": "code",
   "execution_count": 36,
   "metadata": {},
   "outputs": [
    {
     "data": {
      "text/plain": [
       "'Action'"
      ]
     },
     "metadata": {},
     "output_type": "display_data"
    }
   ],
   "source": [
    "s = data[data['cast'].str.contains('Nicolas Cage')]['genres_lst']\n",
    "s1 = s.apply(pd.Series).stack().reset_index(drop=True)\n",
    "res = Counter(s1).most_common()[0][0]\n",
    "\n",
    "answers['17'] = res\n",
    "display(res)"
   ]
  },
  {
   "cell_type": "markdown",
   "metadata": {
    "colab_type": "text",
    "id": "RqOmPRfWVp_q"
   },
   "source": [
    "# 18. Самый убыточный фильм от Paramount Pictures"
   ]
  },
  {
   "cell_type": "code",
   "execution_count": 37,
   "metadata": {
    "colab": {},
    "colab_type": "code",
    "id": "9E_B0Y96Vp_r"
   },
   "outputs": [
    {
     "data": {
      "text/plain": [
       "'K-19: The Widowmaker'"
      ]
     },
     "metadata": {},
     "output_type": "display_data"
    }
   ],
   "source": [
    "paramount_films = data[data['production_companies'].str.contains('Paramount Pictures')]\n",
    "res = paramount_films[paramount_films.profit==paramount_films.profit.min()].original_title.iloc[0]\n",
    "\n",
    "answers['18'] = res\n",
    "display(res)"
   ]
  },
  {
   "cell_type": "markdown",
   "metadata": {
    "colab_type": "text",
    "id": "vS8Ur6ddVp_u"
   },
   "source": [
    "# 19. Какой год стал самым успешным по суммарным кассовым сборам?"
   ]
  },
  {
   "cell_type": "code",
   "execution_count": 38,
   "metadata": {
    "colab": {},
    "colab_type": "code",
    "id": "Dnbt4GdIVp_v"
   },
   "outputs": [
    {
     "data": {
      "text/plain": [
       "2015"
      ]
     },
     "metadata": {},
     "output_type": "display_data"
    }
   ],
   "source": [
    "profit_by_year = data.groupby('release_year')['profit'].sum()\n",
    "res = profit_by_year.sort_values().index[-1]\n",
    "\n",
    "answers['19'] = res\n",
    "display(res)"
   ]
  },
  {
   "cell_type": "markdown",
   "metadata": {
    "colab_type": "text",
    "id": "JAzJh4QAVp_z"
   },
   "source": [
    "# 20. Какой самый прибыльный год для студии Warner Bros?"
   ]
  },
  {
   "cell_type": "code",
   "execution_count": 39,
   "metadata": {
    "colab": {},
    "colab_type": "code",
    "id": "wgVu02DEVp_0"
   },
   "outputs": [
    {
     "data": {
      "text/plain": [
       "2014"
      ]
     },
     "metadata": {},
     "output_type": "display_data"
    }
   ],
   "source": [
    "#NB Предположение, что Warner Bros получает всю прибыль от фильмов, выпущенных совместно с другими компаниями\n",
    "#не является корректным\n",
    "\n",
    "profit_Warner = data[data.production_companies.str.contains('Warner Bros')] \\\n",
    "                .groupby('release_year')['profit'].sum()\n",
    "\n",
    "res = profit_Warner.sort_values().index[-1]\n",
    "\n",
    "answers['20'] = res\n",
    "display(res)"
   ]
  },
  {
   "cell_type": "markdown",
   "metadata": {
    "colab_type": "text",
    "id": "8Im1S2HRVp_4"
   },
   "source": [
    "# 21. В каком месяце за все годы суммарно вышло больше всего фильмов?"
   ]
  },
  {
   "cell_type": "code",
   "execution_count": 40,
   "metadata": {
    "colab": {},
    "colab_type": "code",
    "id": "lev6TH7gVp_4"
   },
   "outputs": [
    {
     "data": {
      "text/plain": [
       "'9'"
      ]
     },
     "metadata": {},
     "output_type": "display_data"
    }
   ],
   "source": [
    "res = Counter(data.release_month).most_common()[0][0]\n",
    "\n",
    "answers['21'] = res\n",
    "display(res)"
   ]
  },
  {
   "cell_type": "markdown",
   "metadata": {
    "colab_type": "text",
    "id": "uAJsZ_NeVp_7"
   },
   "source": [
    "# 22. Сколько суммарно вышло фильмов летом? (за июнь, июль, август)"
   ]
  },
  {
   "cell_type": "code",
   "execution_count": 41,
   "metadata": {
    "colab": {},
    "colab_type": "code",
    "id": "Aa-hEREoVp_8"
   },
   "outputs": [
    {
     "data": {
      "text/plain": [
       "450"
      ]
     },
     "metadata": {},
     "output_type": "display_data"
    }
   ],
   "source": [
    "releases_by_season = Counter(data.release_season)\n",
    "res = releases_by_season['Su']\n",
    "\n",
    "answers['22'] = res\n",
    "display(res)"
   ]
  },
  {
   "cell_type": "markdown",
   "metadata": {
    "colab_type": "text",
    "id": "G94ppOY1VqAA"
   },
   "source": [
    "# 23. Для какого режиссера зима – самое продуктивное время года? "
   ]
  },
  {
   "cell_type": "code",
   "execution_count": 42,
   "metadata": {
    "colab": {},
    "colab_type": "code",
    "id": "RhNTsamuVqAB"
   },
   "outputs": [
    {
     "data": {
      "text/plain": [
       "'Peter Jackson'"
      ]
     },
     "metadata": {},
     "output_type": "display_data"
    }
   ],
   "source": [
    "winter_releases = data[data.release_season=='Wi']\n",
    "winter_releases_by_director = winter_releases.explode('director_lst')\n",
    "res = Counter(winter_releases_by_director.director_lst).most_common()[0][0]\n",
    "\n",
    "answers['23'] = res\n",
    "display(res)"
   ]
  },
  {
   "cell_type": "markdown",
   "metadata": {
    "colab_type": "text",
    "id": "RBo0JVjVVqAF"
   },
   "source": [
    "# 24. Какая студия дает самые длинные названия своим фильмам по количеству символов?"
   ]
  },
  {
   "cell_type": "code",
   "execution_count": 43,
   "metadata": {
    "colab": {},
    "colab_type": "code",
    "id": "QRGS8L0iVqAG"
   },
   "outputs": [
    {
     "data": {
      "text/plain": [
       "'Four By Two Productions'"
      ]
     },
     "metadata": {},
     "output_type": "display_data"
    }
   ],
   "source": [
    "lengths = data.explode('production_companies_lst')[['production_companies_lst', 'title_length']]\n",
    "mean_lengths = pd.to_numeric(lengths.title_length).groupby(lengths.production_companies_lst).mean()\n",
    "res = mean_lengths.sort_values().index[-1]\n",
    "\n",
    "answers['24'] = res\n",
    "display(res)"
   ]
  },
  {
   "cell_type": "markdown",
   "metadata": {
    "colab_type": "text",
    "id": "9G0hbvR7VqAK"
   },
   "source": [
    "# 25. Описание фильмов какой студии в среднем самые длинные по количеству слов?"
   ]
  },
  {
   "cell_type": "code",
   "execution_count": 44,
   "metadata": {
    "colab": {},
    "colab_type": "code",
    "id": "Ge2GsLNxVqAK"
   },
   "outputs": [
    {
     "data": {
      "text/plain": [
       "'Midnight Picture Show'"
      ]
     },
     "metadata": {},
     "output_type": "display_data"
    }
   ],
   "source": [
    "words = data.explode('production_companies_lst')[['production_companies_lst', 'overview_words']]\n",
    "mean_words = pd.to_numeric(words.overview_words).groupby(words.production_companies_lst).mean().sort_values()\n",
    "res = mean_words.sort_values().index[-1]\n",
    "\n",
    "answers['25'] = res\n",
    "display(res)"
   ]
  },
  {
   "cell_type": "markdown",
   "metadata": {
    "colab_type": "text",
    "id": "FJ1AFt90VqAP"
   },
   "source": [
    "# 26. Какие фильмы входят в 1 процент лучших по рейтингу? \n",
    "по vote_average"
   ]
  },
  {
   "cell_type": "code",
   "execution_count": 45,
   "metadata": {
    "colab": {},
    "colab_type": "code",
    "id": "8qmJVq4CVqAQ"
   },
   "outputs": [
    {
     "data": {
      "text/plain": [
       "['Inside Out',\n",
       " 'Spotlight',\n",
       " 'Room',\n",
       " 'Interstellar',\n",
       " 'Guardians of the Galaxy',\n",
       " 'Big Hero 6',\n",
       " 'The Imitation Game',\n",
       " 'Gone Girl',\n",
       " 'The Grand Budapest Hotel',\n",
       " 'The Theory of Everything',\n",
       " 'The Fault in Our Stars',\n",
       " 'Mr. Nobody',\n",
       " '3 Idiots',\n",
       " 'Inception',\n",
       " 'The Lord of the Rings: The Fellowship of the Ring',\n",
       " 'The Dark Knight',\n",
       " 'The Lord of the Rings: The Two Towers',\n",
       " 'The Pianist',\n",
       " 'The Lord of the Rings: The Return of the King',\n",
       " 'The Wolf of Wall Street',\n",
       " 'Her',\n",
       " '12 Years a Slave',\n",
       " 'Prisoners',\n",
       " 'Dallas Buyers Club',\n",
       " 'The Prestige',\n",
       " 'Eternal Sunshine of the Spotless Mind',\n",
       " 'There Will Be Blood',\n",
       " 'Memento']"
      ]
     },
     "metadata": {},
     "output_type": "display_data"
    }
   ],
   "source": [
    "perc_99 = np.percentile(data.vote_average, 99)\n",
    "res = data[data.vote_average>=perc_99]['original_title'].values.tolist()\n",
    "\n",
    "answers['26'] = res\n",
    "display(res)"
   ]
  },
  {
   "cell_type": "markdown",
   "metadata": {
    "colab_type": "text",
    "id": "MdXsUXbCVqAV"
   },
   "source": [
    "# 27. Какие актеры чаще всего снимаются в одном фильме вместе?\n"
   ]
  },
  {
   "cell_type": "code",
   "execution_count": 46,
   "metadata": {
    "colab_type": "text",
    "id": "4ymnxEVoVqAW"
   },
   "outputs": [
    {
     "data": {
      "text/plain": [
       "['Daniel Radcliffe | Emma Watson',\n",
       " 'Daniel Radcliffe | Rupert Grint',\n",
       " 'Emma Watson | Rupert Grint']"
      ]
     },
     "metadata": {},
     "output_type": "display_data"
    }
   ],
   "source": [
    "#Method1\n",
    "\n",
    "#Create list of all existing actors pairs\n",
    "couples = []\n",
    "for i, m in data.iterrows():\n",
    "    for c in combinations(data.loc[i,'cast_lst'], 2):\n",
    "        couples.append(c[0] + \" | \" + c[1])\n",
    "        \n",
    "#Find highest pair's frequency\n",
    "modal = Counter(couples).most_common()[0][1]\n",
    "\n",
    "#Find all pairs with highest frequency\n",
    "res = [x[0] for x in Counter(couples).most_common() if x[1]==modal]\n",
    "\n",
    "answers['27'] = res\n",
    "display(res)"
   ]
  },
  {
   "cell_type": "code",
   "execution_count": 47,
   "metadata": {},
   "outputs": [
    {
     "data": {
      "text/plain": [
       "['Daniel Radcliffe | Rupert Grint',\n",
       " 'Daniel Radcliffe | Emma Watson',\n",
       " 'Emma Watson | Rupert Grint']"
      ]
     },
     "metadata": {},
     "output_type": "display_data"
    }
   ],
   "source": [
    "#Method2\n",
    "\n",
    "#Create list of all existing actors pairs\n",
    "pairs=[]\n",
    "for i in range(len(data)):\n",
    "    cast_new=data.loc[i,'cast'].split('|')\n",
    "    for j in range(len(cast_new)-1):\n",
    "        for k in range(j+1,len(cast_new)):\n",
    "            cpair=sorted([cast_new[j],cast_new[k]])\n",
    "            pairs.append(cpair[0]+' | '+cpair[1])\n",
    "    \n",
    "#Find highest pair's frequency\n",
    "modal = Counter(pairs).most_common()[0][1]\n",
    "\n",
    "#Find all pairs with highest frequency\n",
    "res = [x[0] for x in Counter(pairs).most_common() if x[1]==modal]\n",
    "\n",
    "answers['27'] = res\n",
    "display(res)"
   ]
  },
  {
   "cell_type": "markdown",
   "metadata": {
    "colab_type": "text",
    "id": "U0nONFnGVqAX"
   },
   "source": [
    "# Submission"
   ]
  },
  {
   "cell_type": "code",
   "execution_count": 48,
   "metadata": {
    "colab": {},
    "colab_type": "code",
    "id": "IfcaRO9-VqAX",
    "outputId": "0f132912-32bb-4196-c98c-abfbc4ad5a5f"
   },
   "outputs": [
    {
     "data": {
      "text/plain": [
       "{'1': 'Pirates of the Caribbean: On Stranger Tides',\n",
       " '2': 'Gods and Generals',\n",
       " '3': 'Winnie the Pooh',\n",
       " '4': 109.6585494970884,\n",
       " '5': 107.0,\n",
       " '6': 'Avatar',\n",
       " '7': 'The Lone Ranger',\n",
       " '8': 1478,\n",
       " '9': 'The Dark Knight',\n",
       " '10': 'The Lone Ranger',\n",
       " '11': 'Drama',\n",
       " '12': 'Drama',\n",
       " '13': 'Peter Jackson',\n",
       " '14': 'Robert Rodriguez',\n",
       " '15': 'Chris Hemsworth',\n",
       " '16': 'Matt Damon',\n",
       " '17': 'Action',\n",
       " '18': 'K-19: The Widowmaker',\n",
       " '19': 2015,\n",
       " '20': 2014,\n",
       " '21': '9',\n",
       " '22': 450,\n",
       " '23': 'Peter Jackson',\n",
       " '24': 'Four By Two Productions',\n",
       " '25': 'Midnight Picture Show',\n",
       " '26': ['Inside Out',\n",
       "  'Spotlight',\n",
       "  'Room',\n",
       "  'Interstellar',\n",
       "  'Guardians of the Galaxy',\n",
       "  'Big Hero 6',\n",
       "  'The Imitation Game',\n",
       "  'Gone Girl',\n",
       "  'The Grand Budapest Hotel',\n",
       "  'The Theory of Everything',\n",
       "  'The Fault in Our Stars',\n",
       "  'Mr. Nobody',\n",
       "  '3 Idiots',\n",
       "  'Inception',\n",
       "  'The Lord of the Rings: The Fellowship of the Ring',\n",
       "  'The Dark Knight',\n",
       "  'The Lord of the Rings: The Two Towers',\n",
       "  'The Pianist',\n",
       "  'The Lord of the Rings: The Return of the King',\n",
       "  'The Wolf of Wall Street',\n",
       "  'Her',\n",
       "  '12 Years a Slave',\n",
       "  'Prisoners',\n",
       "  'Dallas Buyers Club',\n",
       "  'The Prestige',\n",
       "  'Eternal Sunshine of the Spotless Mind',\n",
       "  'There Will Be Blood',\n",
       "  'Memento'],\n",
       " '27': ['Daniel Radcliffe | Rupert Grint',\n",
       "  'Daniel Radcliffe | Emma Watson',\n",
       "  'Emma Watson | Rupert Grint']}"
      ]
     },
     "execution_count": 48,
     "metadata": {},
     "output_type": "execute_result"
    }
   ],
   "source": [
    "# в конце можно посмотреть свои ответы к каждому вопросу\n",
    "answers"
   ]
  },
  {
   "cell_type": "code",
   "execution_count": 49,
   "metadata": {
    "colab": {},
    "colab_type": "code",
    "id": "SiRmHPl8VqAd"
   },
   "outputs": [
    {
     "data": {
      "text/plain": [
       "27"
      ]
     },
     "execution_count": 49,
     "metadata": {},
     "output_type": "execute_result"
    }
   ],
   "source": [
    "# и убедиться что ни чего не пропустил)\n",
    "len(answers)"
   ]
  }
 ],
 "metadata": {
  "colab": {
   "name": "Copy of [SF-DST] Movies IMBD v4.1 TEMPLATE.ipynb",
   "provenance": []
  },
  "kernelspec": {
   "display_name": "Python 3",
   "language": "python",
   "name": "python3"
  },
  "language_info": {
   "codemirror_mode": {
    "name": "ipython",
    "version": 3
   },
   "file_extension": ".py",
   "mimetype": "text/x-python",
   "name": "python",
   "nbconvert_exporter": "python",
   "pygments_lexer": "ipython3",
   "version": "3.7.6"
  }
 },
 "nbformat": 4,
 "nbformat_minor": 1
}
